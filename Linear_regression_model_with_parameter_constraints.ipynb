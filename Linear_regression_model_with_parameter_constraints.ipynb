{
 "cells": [
  {
   "cell_type": "code",
   "execution_count": 1,
   "metadata": {},
   "outputs": [],
   "source": [
    "#####パラメータに制約のある線形回帰モデル#####\n",
    "import numpy as np\n",
    "import pandas as pd\n",
    "import matplotlib.pyplot  as plt\n",
    "import numpy.matlib\n",
    "import scipy.linalg\n",
    "import itertools\n",
    "from scipy import sparse\n",
    "from pandas.tools.plotting import scatter_matrix\n",
    "from numpy.random import *\n",
    "from scipy import optimize\n",
    "from scipy.stats import norm\n",
    "import seaborn as sns\n",
    "\n",
    "#np.random.seed(98537)"
   ]
  },
  {
   "cell_type": "code",
   "execution_count": 4,
   "metadata": {},
   "outputs": [],
   "source": [
    "##データの生成\n",
    "#データの設定\n",
    "N = 10000\n",
    "k = 15"
   ]
  },
  {
   "cell_type": "code",
   "execution_count": 38,
   "metadata": {},
   "outputs": [],
   "source": [
    "#素性ベクトルを生成\n",
    "k1 = 5; k2 = 6; k3 = 5\n",
    "x1 = np.abs(np.array(np.random.random(N*k1)).reshape((N, k1)))\n",
    "x2 = np.zeros((N, k2))\n",
    "for j in range(k2):\n",
    "    prob = np.random.uniform(0.25, 0.55, 1)\n",
    "    x2[:, j] = np.random.binomial(1, prob, N)\n",
    "x3 = np.random.multinomial(1, np.random.dirichlet(np.repeat(3.0, k3), 1).reshape(k3), N)\n",
    "x3 = np.delete(x3, np.argmin(np.sum(x3, axis=0)), axis=1)   #冗長な変数の削除\n",
    "x = np.concatenate((np.repeat(1, N)[:, np.newaxis], x1, x2, x3), axis=1)   #すべての説明変数を結合\n",
    "k = x.shape[1]"
   ]
  },
  {
   "cell_type": "code",
   "execution_count": 39,
   "metadata": {},
   "outputs": [
    {
     "data": {
      "text/plain": [
       "(array([  6.,   9.,  33.,  80., 154., 258., 406., 581., 717., 819., 981.,\n",
       "        982., 957., 866., 828., 666., 568., 404., 270., 183., 110.,  70.,\n",
       "         35.,  13.,   4.]),\n",
       " array([ 0.77291787,  1.21696978,  1.66102169,  2.10507361,  2.54912552,\n",
       "         2.99317743,  3.43722934,  3.88128126,  4.32533317,  4.76938508,\n",
       "         5.21343699,  5.65748891,  6.10154082,  6.54559273,  6.98964464,\n",
       "         7.43369655,  7.87774847,  8.32180038,  8.76585229,  9.2099042 ,\n",
       "         9.65395612, 10.09800803, 10.54205994, 10.98611185, 11.43016376,\n",
       "        11.87421568]),\n",
       " <a list of 25 Patch objects>)"
      ]
     },
     "execution_count": 39,
     "metadata": {},
     "output_type": "execute_result"
    },
    {
     "data": {
      "image/png": "[encoded data removed]",
      "text/plain": [
       "<Figure size 432x288 with 1 Axes>"
      ]
     },
     "metadata": {},
     "output_type": "display_data"
    }
   ],
   "source": [
    "#パラメータを設定\n",
    "beta = beta = np.append(-0.5, np.random.normal(-0.25, 0.5, k-1))\n",
    "Sigma = np.array([0.5])\n",
    "betat = beta.copy(); Sigmat = Sigma.copy()\n",
    "\n",
    "#正規分布から応答変数を生成\n",
    "mu = np.dot(x, np.exp(beta))\n",
    "y = np.random.normal(mu, Sigma, N)\n",
    "plt.hist(y, bins=25)"
   ]
  },
  {
   "cell_type": "code",
   "execution_count": 51,
   "metadata": {},
   "outputs": [
    {
     "name": "stdout",
     "output_type": "stream",
     "text": [
      "[[0.603 0.987 2.272 1.129 0.474 0.52  0.554 2.111 1.284 0.217 0.386 1.039\n",
      "  0.983 1.362 0.214 0.311]\n",
      " [0.607 0.957 2.277 1.135 0.479 0.517 0.557 2.111 1.277 0.236 0.373 1.057\n",
      "  0.965 1.35  0.235 0.303]]\n",
      "[[-0.506 -0.013  0.821  0.122 -0.746 -0.654 -0.591  0.747  0.25  -1.529\n",
      "  -0.951  0.038 -0.017  0.309 -1.544 -1.167]\n",
      " [-0.5   -0.044  0.823  0.127 -0.736 -0.66  -0.585  0.747  0.245 -1.443\n",
      "  -0.985  0.056 -0.035  0.3   -1.448 -1.193]]\n"
     ]
    }
   ],
   "source": [
    "##パラメータを推定\n",
    "#最小二乗法でパラメータを推定\n",
    "beta = np.dot(np.dot(np.linalg.inv(np.dot(x.T, x)), x.T), y)\n",
    "\n",
    "#推定されたパラメータ\n",
    "print(np.round(np.append(beta, np.exp(betat)).reshape(2, k), 3))\n",
    "print(np.round(np.append(np.log(beta), betat).reshape(2, k), 3))"
   ]
  },
  {
   "cell_type": "code",
   "execution_count": null,
   "metadata": {},
   "outputs": [],
   "source": []
  }
 ],
 "metadata": {
  "kernelspec": {
   "display_name": "Python 3",
   "language": "python",
   "name": "python3"
  },
  "language_info": {
   "codemirror_mode": {
    "name": "ipython",
    "version": 3
   },
   "file_extension": ".py",
   "mimetype": "text/x-python",
   "name": "python",
   "nbconvert_exporter": "python",
   "pygments_lexer": "ipython3",
   "version": "3.6.5"
  }
 },
 "nbformat": 4,
 "nbformat_minor": 2
}
