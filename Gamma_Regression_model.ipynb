{
 "cells": [
  {
   "cell_type": "code",
   "execution_count": 72,
   "metadata": {},
   "outputs": [],
   "source": [
    "#####Gamma Regression model#####\n",
    "import numpy as np\n",
    "import pandas as pd\n",
    "import matplotlib.pyplot  as plt\n",
    "import numpy.matlib\n",
    "import scipy.linalg\n",
    "import itertools\n",
    "import math\n",
    "from scipy import sparse\n",
    "from scipy.stats import norm\n",
    "from pandas.tools.plotting import scatter_matrix\n",
    "from numpy.random import *\n",
    "from scipy import optimize"
   ]
  },
  {
   "cell_type": "code",
   "execution_count": 91,
   "metadata": {},
   "outputs": [
    {
     "data": {
      "text/plain": [
       "(array([7.0758e+04, 1.8458e+04, 6.0230e+03, 2.3930e+03, 1.0680e+03,\n",
       "        5.6300e+02, 3.0900e+02, 1.7000e+02, 9.8000e+01, 6.4000e+01,\n",
       "        3.9000e+01, 1.9000e+01, 1.1000e+01, 6.0000e+00, 5.0000e+00,\n",
       "        5.0000e+00, 3.0000e+00, 2.0000e+00, 1.0000e+00, 1.0000e+00,\n",
       "        1.0000e+00, 1.0000e+00, 0.0000e+00, 1.0000e+00, 1.0000e+00]),\n",
       " array([3.99889069e-03, 3.52048833e+00, 7.03697777e+00, 1.05534672e+01,\n",
       "        1.40699566e+01, 1.75864461e+01, 2.11029355e+01, 2.46194250e+01,\n",
       "        2.81359144e+01, 3.16524038e+01, 3.51688933e+01, 3.86853827e+01,\n",
       "        4.22018722e+01, 4.57183616e+01, 4.92348510e+01, 5.27513405e+01,\n",
       "        5.62678299e+01, 5.97843194e+01, 6.33008088e+01, 6.68172982e+01,\n",
       "        7.03337877e+01, 7.38502771e+01, 7.73667666e+01, 8.08832560e+01,\n",
       "        8.43997454e+01, 8.79162349e+01]),\n",
       " <a list of 25 Patch objects>)"
      ]
     },
     "execution_count": 91,
     "metadata": {},
     "output_type": "execute_result"
    },
    {
     "data": {
      "image/png": "[encoded data removed]",
      "text/plain": [
       "<Figure size 432x288 with 1 Axes>"
      ]
     },
     "metadata": {},
     "output_type": "display_data"
    }
   ],
   "source": [
    "##データの生成\n",
    "#データの設定\n",
    "N = 100000\n",
    "k = 10\n",
    "\n",
    "#説明変数の生成\n",
    "k1 = 3; k2 = 5; k3 = 5\n",
    "x1 = np.array(np.random.random(N*k1)).reshape((N, k1))\n",
    "x2 = np.zeros((N, k2))\n",
    "for j in range(k2):\n",
    "    prob = np.random.uniform(0.25, 0.55, 1)\n",
    "    x2[:, j] = np.random.binomial(1, prob, N)\n",
    "x3 = np.random.multinomial(1, np.random.dirichlet(np.repeat(3.0, k3), 1).reshape(k3), N)\n",
    "x3 = np.delete(x3, np.argmin(np.sum(x3, axis=0)), axis=1)   #冗長な変数の削除\n",
    "x = np.concatenate((np.repeat(1, N)[:, np.newaxis], x1, x2, x3), axis=1)\n",
    "k = x.shape[1]\n",
    "\n",
    "#応答変数の生成\n",
    "alpha = 2.0\n",
    "beta = np.append(1.0, np.random.normal(0.0, 0.5, k-1))\n",
    "thetat = np.append(alpha, beta)\n",
    "Lambda = np.exp(np.dot(x, beta))\n",
    "y = np.random.gamma(alpha, Lambda, N)\n",
    "y_log = np.log(y)\n",
    "plt.hist(y, bins=25)"
   ]
  },
  {
   "cell_type": "code",
   "execution_count": 92,
   "metadata": {},
   "outputs": [],
   "source": [
    "##ガンマ回帰のパラメータを推定するための関数\n",
    "#ガンマ回帰モデルの対数尤度\n",
    "def loglike(theta, y, y_log, x, N):\n",
    "    #パラメータの設定\n",
    "    alpha = np.exp(theta[0])\n",
    "    beta = theta[1:]\n",
    "    \n",
    "    #期待値の設定\n",
    "    mu = np.dot(x, beta).reshape(-1)\n",
    "    Lambda = np.exp(mu); inv_Lambda = 1/Lambda\n",
    "\n",
    "    #対数尤度の和\n",
    "    LL = np.sum(alpha*np.log(inv_Lambda) - scipy.special.loggamma(alpha) + (alpha-1)*y_log - inv_Lambda*y)\n",
    "    return -LL\n",
    "\n",
    "#ガンマ回帰の対数事後分布の微分関数\n",
    "def dll(theta, y, y_log, x, N):\n",
    "    #パラメータの設定\n",
    "    alpha = np.exp(theta[0])\n",
    "    beta = theta[1:]\n",
    "    \n",
    "    #期待値の設定\n",
    "    mu = np.dot(x, beta).reshape(-1)\n",
    "    Lambda = np.exp(mu); inv_Lambda = 1/Lambda\n",
    "\n",
    "    #微分関数の和\n",
    "    dlgamma1 = np.sum(np.log(inv_Lambda) - scipy.special.digamma(alpha) + y_log)\n",
    "    dlgamma2 = np.sum((((alpha*(1/inv_Lambda)) - y) * -Lambda/np.power(Lambda, 2))[:, np.newaxis] * x, axis=0)\n",
    "    dlgamma = np.append(dlgamma1, dlgamma2)\n",
    "    return -dlgamma"
   ]
  },
  {
   "cell_type": "code",
   "execution_count": 95,
   "metadata": {},
   "outputs": [
    {
     "name": "stdout",
     "output_type": "stream",
     "text": [
      "Warning: Desired error not necessarily achieved due to precision loss.\n",
      "         Current function value: 180682.204150\n",
      "         Iterations: 77\n",
      "         Function evaluations: 268\n",
      "         Gradient evaluations: 255\n",
      "[-180682.2 -180687.4]\n",
      "[1.992 2.   ]\n",
      "[[ 1.003  0.111 -0.704 -0.349  0.073  0.288  0.772 -0.887  0.376 -0.603\n",
      "  -0.491 -0.707 -0.203]\n",
      " [ 1.     0.109 -0.714 -0.343  0.072  0.287  0.777 -0.888  0.373 -0.595\n",
      "  -0.491 -0.698 -0.198]]\n"
     ]
    }
   ],
   "source": [
    "##最尤法でパラメータを推定\n",
    "#準ニュートン法で対数尤度を最大化\n",
    "theta = np.append(0.0, np.append(1.0, np.random.normal(0, 0.25, k-1)))\n",
    "res = optimize.minimize(loglike, theta, jac=dll, method=\"CG\", args=(y, y_log, x, N), options={\"disp\": True})\n",
    "\n",
    "#パラメータの推定結果\n",
    "theta = res.x\n",
    "LL = -res.fun\n",
    "LLbest = -loglike(np.append(np.log(thetat[0]), thetat[1:]), y, y_log, x, N)\n",
    "print(np.round(np.array([LL, LLbest]), 1))\n",
    "print(np.round(np.append(np.exp(theta[0]), thetat[0]), 3))\n",
    "print(np.round(np.vstack((theta[1:], thetat[1:, ])), 3))"
   ]
  },
  {
   "cell_type": "code",
   "execution_count": 96,
   "metadata": {},
   "outputs": [
    {
     "data": {
      "text/plain": [
       "Text(0.5,1,'生成データの分布')"
      ]
     },
     "execution_count": 96,
     "metadata": {},
     "output_type": "execute_result"
    },
    {
     "data": {
      "image/png": "[encoded data removed]",
      "text/plain": [
       "<Figure size 972x288 with 2 Axes>"
      ]
     },
     "metadata": {},
     "output_type": "display_data"
    }
   ],
   "source": [
    "#推定結果を可視化\n",
    "Lambda = np.exp(np.dot(x, theta[1:]))\n",
    "y_hat = np.random.gamma(np.exp(theta[0]), Lambda, N)\n",
    "\n",
    "#応答変数の可視化\n",
    "fig = plt.figure(figsize=(13.5, 4.0))\n",
    "ax = fig.add_subplot(1, 2, 1)\n",
    "ax.hist(y, bins=25, range=[0.0, np.max(y)])\n",
    "ax.set_title('応答変数の分布', fontsize=12.5)\n",
    "ax = fig.add_subplot(1, 2, 2)\n",
    "ax.hist(y_hat, bins=25, range=[0.0, np.max(y)])\n",
    "ax.set_title('生成データの分布', fontsize=12.5)"
   ]
  },
  {
   "cell_type": "code",
   "execution_count": null,
   "metadata": {},
   "outputs": [],
   "source": []
  },
  {
   "cell_type": "code",
   "execution_count": null,
   "metadata": {},
   "outputs": [],
   "source": []
  },
  {
   "cell_type": "code",
   "execution_count": null,
   "metadata": {},
   "outputs": [],
   "source": []
  },
  {
   "cell_type": "code",
   "execution_count": null,
   "metadata": {},
   "outputs": [],
   "source": []
  }
 ],
 "metadata": {
  "kernelspec": {
   "display_name": "Python 3",
   "language": "python",
   "name": "python3"
  },
  "language_info": {
   "codemirror_mode": {
    "name": "ipython",
    "version": 3
   },
   "file_extension": ".py",
   "mimetype": "text/x-python",
   "name": "python",
   "nbconvert_exporter": "python",
   "pygments_lexer": "ipython3",
   "version": "3.6.5"
  }
 },
 "nbformat": 4,
 "nbformat_minor": 2
}
