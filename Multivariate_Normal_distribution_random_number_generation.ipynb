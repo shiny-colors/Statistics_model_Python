{
 "cells": [
  {
   "cell_type": "code",
   "execution_count": 1,
   "metadata": {},
   "outputs": [],
   "source": [
    "#####multivariate normal distribution random number generation#####\n",
    "import numpy as np\n",
    "import pandas as pd\n",
    "import matplotlib.pyplot  as plt\n",
    "import numpy.matlib\n",
    "import scipy\n",
    "import scipy.linalg\n",
    "import scipy.stats as ss\n",
    "import itertools\n",
    "from numpy.random import *\n",
    "from scipy import optimize\n",
    "from scipy.stats import norm"
   ]
  },
  {
   "cell_type": "code",
   "execution_count": 2,
   "metadata": {},
   "outputs": [],
   "source": [
    "####任意の相関行列(分散共分散行列)を作成する関数####\n",
    "##任意の相関行列を作る関数\n",
    "def CorM(col, lower, upper, eigen_lower, eigen_upper):\n",
    "    #相関行列の初期値を定義する\n",
    "    cov_vec = np.random.uniform(lower, upper, col*col)   #相関係数の乱数ベクトルを作成\n",
    "    rho = np.tril(cov_vec.reshape(col, col), k=-1)   #乱数ベクトルを下三角行列化\n",
    "    Sigma = (rho + rho.T) + np.diag(np.repeat(1, col))   #対角成分を1にする\n",
    "    \n",
    "    #相関行列を正定値行列に変更\n",
    "    #固有値分解を実行\n",
    "    eigen = np.linalg.eigh(Sigma)\n",
    "    eigen_val = eigen[0] \n",
    "    eigen_vec = eigen[1]\n",
    "    \n",
    "    #固有値が負の数値を正にする\n",
    "    for i in range(col):\n",
    "        if eigen_val[i] < 0:\n",
    "            eigen_val[i] = np.random.uniform(eigen_lower, eigen_upper, 1)\n",
    "            \n",
    "    #新しい相関行列の定義と対角成分を1にする\n",
    "    Sigma = np.dot(np.dot(eigen_vec, np.diag(eigen_val)), eigen_vec.T)\n",
    "    normalization_factor = np.dot(np.power(np.diag(Sigma), 0.5)[:, np.newaxis], np.power(np.diag(Sigma), 0.5)[np.newaxis, :])\n",
    "    Cor = Sigma / normalization_factor\n",
    "    return Cor\n",
    "\n",
    "##相関行列から分散共分散行列に変換する関数\n",
    "def covmatrix(Cor, sigma_lower, sigma_upper):\n",
    "    sigma = (sigma_upper - sigma_lower) * rand(np.diag(Cor).shape[0]) + sigma_lower\n",
    "    sigma_factor = np.dot(sigma[:, np.newaxis], sigma[np.newaxis, :])\n",
    "    Cov = Cor * sigma_factor\n",
    "    return Cov\n",
    "\n",
    "##分散共分散行列から相関行列に変換する関数\n",
    "def cov2cor(Cov):\n",
    "    D = np.diag(np.power(np.diag(Cov), -1/2))\n",
    "    corr = np.dot(np.dot(D, Cov), D)\n",
    "    return corr"
   ]
  },
  {
   "cell_type": "code",
   "execution_count": 3,
   "metadata": {},
   "outputs": [],
   "source": [
    "#平均ベクトルと相関行列の生成\n",
    "k = 5\n",
    "mu = np.repeat(0, k)\n",
    "Cov = CorM(k, 0.2, 0.5, 0.05, 0.1)"
   ]
  },
  {
   "cell_type": "code",
   "execution_count": 4,
   "metadata": {},
   "outputs": [
    {
     "name": "stdout",
     "output_type": "stream",
     "text": [
      "[[1.         0.25410174 0.34863321 0.2708521  0.33047558]\n",
      " [0.25410174 1.         0.27051793 0.37340619 0.44396133]\n",
      " [0.34863321 0.27051793 1.         0.25167334 0.32549119]\n",
      " [0.2708521  0.37340619 0.25167334 1.         0.42692069]\n",
      " [0.33047558 0.44396133 0.32549119 0.42692069 1.        ]]\n",
      "[[1.         0.25500438 0.34837044 0.27231209 0.33011915]\n",
      " [0.25500438 1.         0.2667486  0.37698451 0.44288673]\n",
      " [0.34837044 0.2667486  1.         0.25064365 0.32394048]\n",
      " [0.27231209 0.37698451 0.25064365 1.         0.42832043]\n",
      " [0.33011915 0.44288673 0.32394048 0.42832043 1.        ]]\n"
     ]
    }
   ],
   "source": [
    "#関数を用いて多変量正規分布から乱数を生成\n",
    "hh = 100000\n",
    "y1 = np.random.multivariate_normal(mu, Cov, hh)\n",
    "print(Cov)\n",
    "print(np.corrcoef(y1.T))"
   ]
  },
  {
   "cell_type": "code",
   "execution_count": 6,
   "metadata": {},
   "outputs": [
    {
     "name": "stdout",
     "output_type": "stream",
     "text": [
      "[[1.         0.25410174 0.34863321 0.2708521  0.33047558]\n",
      " [0.25410174 1.         0.27051793 0.37340619 0.44396133]\n",
      " [0.34863321 0.27051793 1.         0.25167334 0.32549119]\n",
      " [0.2708521  0.37340619 0.25167334 1.         0.42692069]\n",
      " [0.33047558 0.44396133 0.32549119 0.42692069 1.        ]]\n",
      "[[1.         0.25649375 0.34979819 0.27329673 0.33093978]\n",
      " [0.25649375 1.         0.27152499 0.37168153 0.44402028]\n",
      " [0.34979819 0.27152499 1.         0.25553135 0.32438994]\n",
      " [0.27329673 0.37168153 0.25553135 1.         0.42823006]\n",
      " [0.33093978 0.44402028 0.32438994 0.42823006 1.        ]]\n"
     ]
    }
   ],
   "source": [
    "#コレスキー分解を用いて多変量正規分布からの乱数を生成\n",
    "s = np.random.normal(0, 1, hh*k).reshape(hh, k)\n",
    "P = np.linalg.cholesky(Cov)\n",
    "y2 = np.dot(P, s.T).T\n",
    "print(Cov)\n",
    "print(np.corrcoef(y2.T))"
   ]
  },
  {
   "cell_type": "code",
   "execution_count": 10,
   "metadata": {},
   "outputs": [
    {
     "data": {
      "text/plain": [
       "array([[-2.83473982e-01, -5.14228388e-01,  4.38374421e-01,\n",
       "        -3.97519286e-02, -2.44471899e-01],\n",
       "       [ 9.20590790e-01,  6.59419838e-01, -2.24588717e-01,\n",
       "         1.65238685e-01,  7.10493504e-01],\n",
       "       [ 4.16438491e-01,  5.95647398e-01, -1.47133262e+00,\n",
       "        -1.01130880e+00, -2.07927312e-01],\n",
       "       ...,\n",
       "       [ 5.27085842e-01, -2.78023103e+00, -1.94448978e+00,\n",
       "        -1.83253474e+00, -2.96286560e+00],\n",
       "       [-7.37013478e-01,  2.35290221e-01,  8.25586925e-04,\n",
       "        -5.16102861e-01, -2.61464334e-02],\n",
       "       [-2.18898693e+00,  4.14349054e-01, -2.00377059e+00,\n",
       "         4.72333178e-01,  7.15198276e-01]])"
      ]
     },
     "execution_count": 10,
     "metadata": {},
     "output_type": "execute_result"
    }
   ],
   "source": [
    "#多変量正規分布の乱数を生成する関数\n",
    "def rmvnorm(mu, Cov, hh, k):\n",
    "    s = mu + np.random.normal(0, 1, hh*k).reshape(hh, k)\n",
    "    P = np.linalg.cholesky(Cov)\n",
    "    y = np.dot(P, mu.T).T\n",
    "    return y\n",
    "\n",
    "mu = np.random.normal(0, 1, hh*k).reshape(hh, k)\n",
    "rmvnorm(mu, Cov, hh, k)"
   ]
  },
  {
   "cell_type": "code",
   "execution_count": null,
   "metadata": {},
   "outputs": [],
   "source": []
  }
 ],
 "metadata": {
  "kernelspec": {
   "display_name": "Python 3",
   "language": "python",
   "name": "python3"
  },
  "language_info": {
   "codemirror_mode": {
    "name": "ipython",
    "version": 3
   },
   "file_extension": ".py",
   "mimetype": "text/x-python",
   "name": "python",
   "nbconvert_exporter": "python",
   "pygments_lexer": "ipython3",
   "version": "3.6.5"
  }
 },
 "nbformat": 4,
 "nbformat_minor": 2
}
