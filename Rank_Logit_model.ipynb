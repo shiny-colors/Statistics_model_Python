{
 "cells": [
  {
   "cell_type": "code",
   "execution_count": 1,
   "metadata": {},
   "outputs": [],
   "source": [
    "#####Rank logit model#####\n",
    "import numpy as np\n",
    "import pandas as pd\n",
    "import matplotlib.pyplot  as plt\n",
    "import numpy.matlib\n",
    "import scipy.linalg\n",
    "import itertools\n",
    "import seaborn as sns\n",
    "from scipy import sparse\n",
    "from scipy.stats import norm\n",
    "from pandas.tools.plotting import scatter_matrix\n",
    "from numpy.random import *\n",
    "from scipy import optimize\n",
    "\n",
    "#np.random.seed(98537)"
   ]
  },
  {
   "cell_type": "code",
   "execution_count": 2,
   "metadata": {},
   "outputs": [],
   "source": [
    "##多項分布の乱数を生成する関数\n",
    "def rmnom(pr, n, k, no, pattern):\n",
    "    z_id = np.argmax((np.cumsum(pr, axis=1) >= np.random.uniform(0, 1, n)[:, np.newaxis]), axis=1)\n",
    "    if pattern==1:\n",
    "        Z = sparse.coo_matrix((np.repeat(1, n), (no, np.array(z_id))), shape=(n, k))   #スパース行列の設定\n",
    "        return z_id, Z\n",
    "    return z_id"
   ]
  },
  {
   "cell_type": "code",
   "execution_count": 3,
   "metadata": {},
   "outputs": [],
   "source": [
    "##データの設定\n",
    "r = 3   #3位まで選択\n",
    "n = 25000   #ユーザー数\n",
    "member = 10   #選択可能数\n",
    "N = member*n   #総レコード数"
   ]
  },
  {
   "cell_type": "code",
   "execution_count": 4,
   "metadata": {},
   "outputs": [],
   "source": [
    "##idとインデックスの設定\n",
    "#idの設定\n",
    "user_id = np.repeat(np.arange(n), np.repeat(member, n))\n",
    "member_id = np.tile(np.arange(member), n)\n",
    "\n",
    "#インデックスの設定\n",
    "user_list = [i for i in range(n)]\n",
    "member_list = [j for j in range(member)]\n",
    "for i in range(n):\n",
    "    user_list[i] = np.array(np.where(user_id==i)[0], dtype=\"int\")\n",
    "for j in range(member):\n",
    "    member_list[j] = np.array(np.where(member_id==j)[0], dtype=\"int\")"
   ]
  },
  {
   "cell_type": "code",
   "execution_count": 5,
   "metadata": {},
   "outputs": [],
   "source": [
    "##説明変数の生成\n",
    "#衣装タイプの生成\n",
    "types = 9   #衣装数\n",
    "CLOTH = np.zeros((N, types), dtype=\"int\")\n",
    "Prob = np.random.dirichlet(np.repeat(2.0, types), 1).reshape(-1)\n",
    "for j in range(member):\n",
    "    CLOTH[member_list[j], ] = np.random.multinomial(1, Prob, n)\n",
    "CLOTH = CLOTH[:, np.delete(np.arange(types), np.argmin(np.sum(CLOTH, axis=0)))]\n",
    "\n",
    "#メンバーのshare of voiceを生成\n",
    "alpha = np.abs(np.random.normal(0, 0.5, member))\n",
    "AWARE = np.random.dirichlet(alpha, n).reshape(-1)\n",
    "\n",
    "#メンバーの接触確率を生成\n",
    "alpha = np.abs(np.random.normal(0, 0.5, member))\n",
    "CONTACT = np.random.dirichlet(alpha, n).reshape(-1)\n",
    "\n",
    "#登録からの経過年数\n",
    "REGIST = np.abs(np.random.normal(0, 1.0, n))\n",
    "\n",
    "#プレイ時間の対数\n",
    "PLAY = np.abs(np.random.normal(0, 1.0, n))\n",
    "\n",
    "#データの結合\n",
    "x1 = np.hstack((np.repeat(1, n)[:, np.newaxis], REGIST[:, np.newaxis], PLAY[:, np.newaxis]))\n",
    "x2 = np.hstack((CLOTH, AWARE[:, np.newaxis], CONTACT[:, np.newaxis]))\n",
    "k1 = x1.shape[1]\n",
    "k2 = x2.shape[1]"
   ]
  },
  {
   "cell_type": "code",
   "execution_count": 10,
   "metadata": {},
   "outputs": [
    {
     "name": "stdout",
     "output_type": "stream",
     "text": [
      "1\n",
      "2\n",
      "3\n",
      "4\n",
      "5\n"
     ]
    }
   ],
   "source": [
    "##応答変数の生成\n",
    "rp = 0\n",
    "while True:\n",
    "    rp = rp + 1\n",
    "    print(rp)\n",
    "    \n",
    "    #パラメータの設定\n",
    "    beta01 = np.random.multivariate_normal(np.repeat(0.75, member-1), np.diag(np.repeat(1.5, member-1)), 1).reshape(-1)\n",
    "    beta02 = np.random.multivariate_normal(np.repeat(0.0, member-1), np.diag(np.repeat(0.25, member-1)), 1).reshape(-1)\n",
    "    beta03 = np.random.multivariate_normal(np.repeat(0.0, member-1), np.diag(np.repeat(0.25, member-1)), 1).reshape(-1)\n",
    "    beta11 = np.random.multivariate_normal(np.repeat(0.0, types-1), np.diag(np.repeat(1.0, types-1)), 1).reshape(-1)\n",
    "    beta12 = np.array([0.75])\n",
    "    beta13 = np.array([1.0])\n",
    "    beta1 = np.vstack((beta01, beta02, beta03))\n",
    "    beta2 = np.concatenate((beta11, beta12, beta13))\n",
    "    betat1 = beta1.copy(); betat2 = beta2.copy() \n",
    "\n",
    "    #潜在効用を定義\n",
    "    Util1 = np.hstack((np.dot(x1, beta1), np.repeat(0, n)[:, np.newaxis]))\n",
    "    Util2 = np.dot(x2, beta2).reshape(n, member)\n",
    "    Util = np.exp(Util1 + Util2)\n",
    "\n",
    "    #ランキングを生成\n",
    "    rank = np.zeros((n, r), dtype=\"int\")\n",
    "    Rank = np.zeros((n, member, r), dtype=\"int\")\n",
    "    Prob = np.zeros((n, member, r))\n",
    "    Z = np.full((n, member, r), 1)\n",
    "\n",
    "    for j in range(r):\n",
    "        #選択済みメンバーのflagを削除\n",
    "        if j >= 1:\n",
    "            Z[:, :, j] = Z[:, :, j-1] * (1-Rank[:, :, j-1])\n",
    "\n",
    "        #順位ごとの選択確率を定義\n",
    "        U = Util * Z[:, :, j]\n",
    "        Prob[:, :, j] = U / np.sum(U, axis=1)[:, np.newaxis]\n",
    "\n",
    "        #多項分布から順位を生成\n",
    "        res = rmnom(Prob[:, :, j], n, member, np.arange(n), 1)\n",
    "        Rank[:, :, j] = np.array(res[1].todense(), dtype=\"int\")\n",
    "        rank[:, j] = np.array(res[0], dtype=\"int\")\n",
    "        \n",
    "    #break条件\n",
    "    if np.median(np.max(Prob[:, :, 0], axis=1)) > 0.55:\n",
    "        break"
   ]
  },
  {
   "cell_type": "code",
   "execution_count": null,
   "metadata": {},
   "outputs": [],
   "source": []
  },
  {
   "cell_type": "code",
   "execution_count": null,
   "metadata": {},
   "outputs": [],
   "source": []
  },
  {
   "cell_type": "code",
   "execution_count": null,
   "metadata": {},
   "outputs": [],
   "source": []
  }
 ],
 "metadata": {
  "kernelspec": {
   "display_name": "Python 3",
   "language": "python",
   "name": "python3"
  },
  "language_info": {
   "codemirror_mode": {
    "name": "ipython",
    "version": 3
   },
   "file_extension": ".py",
   "mimetype": "text/x-python",
   "name": "python",
   "nbconvert_exporter": "python",
   "pygments_lexer": "ipython3",
   "version": "3.6.5"
  }
 },
 "nbformat": 4,
 "nbformat_minor": 2
}
