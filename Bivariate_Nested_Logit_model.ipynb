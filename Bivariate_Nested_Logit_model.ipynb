{
 "cells": [
  {
   "cell_type": "code",
   "execution_count": 28,
   "metadata": {},
   "outputs": [],
   "source": [
    "#####Bivariate Nested Logit model#####\n",
    "import numpy as np\n",
    "import pandas as pd\n",
    "import matplotlib.pyplot  as plt\n",
    "import numpy.matlib\n",
    "import scipy.linalg\n",
    "import itertools\n",
    "from scipy import sparse\n",
    "from pandas.tools.plotting import scatter_matrix\n",
    "from numpy.random import *\n",
    "from scipy import optimize\n",
    "import seaborn as sns\n",
    "import time\n",
    "\n",
    "#np.random.seed(25978)"
   ]
  },
  {
   "cell_type": "code",
   "execution_count": 29,
   "metadata": {},
   "outputs": [],
   "source": [
    "####データの発生####\n",
    "##データの設定\n",
    "hh = 10000   #プレイヤー数\n",
    "pt = 90   #観測期間\n",
    "hhpt = hh*pt   #総レコード数"
   ]
  },
  {
   "cell_type": "code",
   "execution_count": 30,
   "metadata": {},
   "outputs": [],
   "source": [
    "##IDとインデックスの設定\n",
    "#IDの設定\n",
    "user_id = np.repeat(range(hh), pt)\n",
    "pt_id = np.repeat(range(pt), hh).reshape(pt, hh).T.reshape(-1)\n",
    "\n",
    "#インデックスの設定\n",
    "index = np.array(range(hhpt))\n",
    "\n",
    "user_index = [i for i in range(hh)]\n",
    "for i in range(hh):\n",
    "    user_index[i] = index[user_id==i]"
   ]
  },
  {
   "cell_type": "code",
   "execution_count": 31,
   "metadata": {},
   "outputs": [],
   "source": [
    "##説明変数の生成\n",
    "#ログイン有無の説明変数を生成\n",
    "k1 = 4; k2 = 3; k3 = 7; k4 = 6\n",
    "x1 = np.log(1 + np.abs(np.random.normal(0, 1.0, hhpt*k1))).reshape(hhpt, k1)\n",
    "x2 = np.zeros((hhpt, k2)); x3 = np.zeros((hhpt, k3))\n",
    "for i in range(hh):\n",
    "    prob1 = np.random.beta(5.0, 7.0, k2)\n",
    "    prob2 = np.random.beta(7.5, 10.0, k3)\n",
    "    x2[user_index[i], ] = np.random.binomial(1, np.repeat(prob1, pt), pt*k2).reshape(pt, k2)\n",
    "    x3[user_index[i], ] = np.random.binomial(1, np.repeat(prob2, pt), pt*k3).reshape(pt, k3)\n",
    "x4 = np.random.multinomial(1, np.random.dirichlet(np.repeat(2.5, k4), 1).reshape(-1), hh)[user_id, ]\n",
    "x4 = np.delete(x4, np.sum(x4, axis=0).argmin(), axis=1)\n",
    "dt0 = np.hstack((np.repeat(1, hhpt).reshape(hhpt, 1), x1, x2, x3, x4))"
   ]
  },
  {
   "cell_type": "code",
   "execution_count": 32,
   "metadata": {},
   "outputs": [],
   "source": [
    "#コンバージョン有無の説明変数を生成\n",
    "k1 = 5; k2 = 4; k3 = 6; k4 = 7\n",
    "x1 = np.log(1 + np.abs(np.random.normal(0, 1.0, hhpt*k1))).reshape(hhpt, k1)\n",
    "x2 = np.zeros((hhpt, k2)); x3 = np.zeros((hhpt, k3))\n",
    "for i in range(hh):\n",
    "    prob1 = np.random.beta(5.0, 7.5, k2)\n",
    "    prob2 = np.random.beta(7.0, 10.0, k3)\n",
    "    x2[user_index[i], ] = np.random.binomial(1, np.repeat(prob1, pt), pt*k2).reshape(pt, k2)\n",
    "    x3[user_index[i], ] = np.random.binomial(1, np.repeat(prob2, pt), pt*k3).reshape(pt, k3)\n",
    "x4 = np.random.multinomial(1, np.random.dirichlet(np.repeat(2.5, k4), 1).reshape(-1), hh)[user_id, ]\n",
    "x4 = np.delete(x4, np.sum(x4, axis=0).argmin(), axis=1)\n",
    "dt2 = np.hstack((np.repeat(1, hhpt).reshape(hhpt, 1), x1, x2, x3, x4))"
   ]
  },
  {
   "cell_type": "code",
   "execution_count": 33,
   "metadata": {},
   "outputs": [],
   "source": [
    "##応答変数の生成\n",
    "rp = 0\n",
    "while True:\n",
    "    rp = rp + 1\n",
    "    \n",
    "    #パラメータの生成\n",
    "    k1 = dt0.shape[1] + 1; k2 = dt2.shape[1]\n",
    "    beta1 = np.append(np.append(-0.6, np.random.normal(0, 0.75, k1-2)), np.random.uniform(0.3, 0.75, 1))\n",
    "    beta2 = np.append(-0.75, np.random.normal(0, 0.75, k2-1))\n",
    "    betat1 = beta1; betat2 = beta2\n",
    "    betat = np.append(betat1, betat2)\n",
    "\n",
    "    #コンバージョンのロジットと応答確率を設定\n",
    "    logit_cv = np.dot(dt2, beta2)\n",
    "    Prob_cv = np.exp(logit_cv) / (1 + np.exp(logit_cv))\n",
    "\n",
    "    #ログサム変数を設定\n",
    "    logsum = np.log(1 + np.exp(logit_cv)).reshape(hhpt, 1)\n",
    "    dt1 = np.hstack((dt0, logsum))\n",
    "\n",
    "    #ログイン有無のロジットと応答確率を設定\n",
    "    logit_login = np.dot(dt1, beta1)\n",
    "    Prob_login = np.exp(logit_login) / (1 + np.exp(logit_login))\n",
    "\n",
    "    #ベルヌーイ分布から応答変数を生成\n",
    "    y1 = np.random.binomial(1, Prob_login, hhpt)\n",
    "    y2 = np.random.binomial(1, Prob_cv, hhpt)\n",
    "    y2[y1==0] = 0\n",
    "\n",
    "    #break条件\n",
    "    if (np.mean(y1) > 0.2) & (np.mean(y1) < 0.45) & (np.mean(y2[y1==1]) > 0.15) & (np.mean(y2[y1==1]) < 0.4):\n",
    "        break"
   ]
  },
  {
   "cell_type": "code",
   "execution_count": 34,
   "metadata": {},
   "outputs": [],
   "source": [
    "####最尤法でBivariate Nested Logit modelを推定####\n",
    "##Bivariate Nested Logit modelの対数尤度関数\n",
    "def loglike(beta, y1, y2, y2_nested, dt1, dt2, index_beta1, index_beta2, index_y1):\n",
    "    \n",
    "    #パラメータの設定\n",
    "    beta1 = beta[index_beta1]\n",
    "    beta2 = beta[index_beta2]\n",
    "    \n",
    "    #コンバージョンのロジットと応答確率を設定\n",
    "    mu_cv = np.exp(np.dot(dt2, beta2))\n",
    "    Prob_cv = (mu_cv / (1 + mu_cv))[index_y1]\n",
    "\n",
    "    #ログサム変数を設定\n",
    "    logsum = np.log(1 + mu_cv)\n",
    "    dt1[:, k1-1] = logsum\n",
    "\n",
    "    #ログイン有無のロジットと応答確率を設定\n",
    "    mu_login = np.exp(np.dot(dt1, beta1))\n",
    "    Prob_login = mu_login / (1 + mu_login)\n",
    "\n",
    "    #対数尤度の和\n",
    "    LL1 = np.sum(y1*(np.log(Prob_login)) + (1-y1)*(np.log(1-Prob_login)))\n",
    "    LL2 = np.sum((y2_nested*(np.log(Prob_cv)) + (1-y2_nested)*(np.log(1-Prob_cv))))\n",
    "    LL = -(LL1 + LL2)\n",
    "    return LL"
   ]
  },
  {
   "cell_type": "code",
   "execution_count": 35,
   "metadata": {},
   "outputs": [],
   "source": [
    "##Bivariate Nested Logit modelの勾配ベクトル\n",
    "def dloglike(beta, y1, y2, y2_nested, dt1, dt2, index_beta1, index_beta2, index_y1):\n",
    "    \n",
    "    #パラメータの設定\n",
    "    n = y2_nested.shape[0]\n",
    "    dt2_part = dt2[index_y1, ]\n",
    "    beta1 = beta[index_beta1]\n",
    "    beta2 = beta[index_beta2]\n",
    "\n",
    "    #コンバージョンのロジットと応答確率を設定\n",
    "    mu_cv = np.exp(np.dot(dt2, beta2))\n",
    "    Prob_cv = (mu_cv / (1 + mu_cv)).reshape(hhpt, 1)\n",
    "    \n",
    "    #ログサム変数を設定\n",
    "    logsum = np.log(1 + mu_cv)\n",
    "    dt1[:, k1-1] = logsum\n",
    "\n",
    "    #ログイン有無のロジットと応答確率を設定\n",
    "    mu_login = np.exp(np.dot(dt1, beta1))\n",
    "    Prob_login = (mu_login / (1 + mu_login)).reshape(hhpt, 1)\n",
    "\n",
    "    #勾配ベクトルを計算\n",
    "    dlogit1 = np.sum(y1.reshape(hhpt, 1)*dt1 - Prob_login*dt1, axis=0)\n",
    "    dlogit21 = np.sum(y1.reshape(hhpt, 1)*Prob_cv*dt2 - Prob_login*Prob_cv*dt2, axis=0)\n",
    "    dlogit22 = np.sum(y2_nested.reshape(n, 1)*dt2_part - Prob_cv[index_y1, ]*dt2_part, axis=0)\n",
    "    dlogit = -np.append(dlogit1, dlogit21 + dlogit22)\n",
    "    return dlogit"
   ]
  },
  {
   "cell_type": "code",
   "execution_count": 36,
   "metadata": {},
   "outputs": [
    {
     "name": "stdout",
     "output_type": "stream",
     "text": [
      "Warning: Desired error not necessarily achieved due to precision loss.\n",
      "         Current function value: 550928.927016\n",
      "         Iterations: 56\n",
      "         Function evaluations: 171\n",
      "         Gradient evaluations: 159\n"
     ]
    }
   ],
   "source": [
    "#データの設定\n",
    "index_beta1 = np.array(range(k1))\n",
    "index_beta2 = np.delete(np.array(range(k1 + k2)), index_beta1)\n",
    "index_y1 = np.arange(hhpt)[y1==1]\n",
    "y2_nested = y2[index_y1]\n",
    "\n",
    "#初期値の設定\n",
    "beta1 = np.append(-0.5, np.repeat(0, k1-1))\n",
    "beta2 = np.append(-0.5, np.repeat(0, k2-1))\n",
    "beta = np.append(beta1, beta2)\n",
    "k = beta.shape[0]\n",
    "\n",
    "##準ニュートン法で対数尤度を最大化\n",
    "res = optimize.minimize(loglike, beta, jac=dloglike, method='BFGS', args=(y1, y2, y2_nested, dt1, dt2, index_beta1, index_beta2, index_y1),\n",
    "                        options={\"gtol\": 0.01, \"disp\":True})"
   ]
  },
  {
   "cell_type": "code",
   "execution_count": 37,
   "metadata": {},
   "outputs": [
    {
     "name": "stdout",
     "output_type": "stream",
     "text": [
      "[ -550928.927 -1444663.576  -550953.083]\n",
      "[[-0.6   -0.74   0.521 -0.526  0.521 -0.737  0.592 -0.467 -1.079 -0.773\n",
      "   0.882  0.812 -0.637  0.262 -0.339 -0.453 -0.407  1.017  0.681 -0.59\n",
      "   0.306]\n",
      " [-0.614 -0.742  0.531 -0.515  0.516 -0.739  0.588 -0.46  -1.083 -0.781\n",
      "   0.877  0.802 -0.64   0.262 -0.33  -0.463 -0.393  1.024  0.689 -0.582\n",
      "   0.322]]\n",
      "[[-0.75   0.637 -0.539 -1.123 -0.496 -0.696 -0.647  0.671 -0.305  0.055\n",
      "  -0.637  0.893  0.169  0.363  1.129  0.449 -0.068 -0.355 -0.975 -0.565\n",
      "  -1.404  0.827]\n",
      " [-0.734  0.622 -0.537 -1.132 -0.501 -0.67  -0.647  0.67  -0.292  0.057\n",
      "  -0.615  0.872  0.18   0.355  1.125  0.443 -0.056 -0.347 -0.996 -0.585\n",
      "  -1.398  0.811]]\n"
     ]
    }
   ],
   "source": [
    "##推定されたパラメータの確認と適合度\n",
    "#推定されたパラメータと真のパラメータの比較\n",
    "beta = res.x   #推定されたパラメータ\n",
    "hessian = res.hess_inv   #ヘッシアンの逆行列\n",
    "LL = -res.fun   #最大化された対数尤度\n",
    "LLst= np.sum(y1*np.log(np.mean(y1)) + (1-y1)*np.log(np.mean(y1))) + \\\n",
    "            np.sum(y2_nested*np.log(np.mean(y2_nested)) + (1-y2_nested)*np.log(np.mean(y2_nested)))\n",
    "LLbest = -loglike(betat, y1, y2, y2_nested, dt1, dt2, index_beta1, index_beta2, index_y1)   #真値での対数尤度\n",
    "print(np.round(np.array([LL, LLst, LLbest]), 3))\n",
    "print(np.round(np.array([betat1, beta[index_beta1]]), 3))\n",
    "print(np.round(np.array([betat2, beta[index_beta2]]), 3))"
   ]
  },
  {
   "cell_type": "code",
   "execution_count": 38,
   "metadata": {
    "scrolled": true
   },
   "outputs": [
    {
     "name": "stdout",
     "output_type": "stream",
     "text": [
      "[ -44.299  -94.39    67.106  -65.645   65.349 -142.753  114.988  -89.671\n",
      " -205.086 -150.195  172.201  156.721 -124.56    51.696  -64.716  -38.893\n",
      "  -36.646   92.722   65.845  -55.909   42.139  -33.52    53.375  -43.595\n",
      "  -92.667  -40.056  -53.03   -75.889   82.333  -35.427    6.881  -75.557\n",
      "  104.246   21.881   42.518  132.302   54.513   -2.632  -16.347  -44.142\n",
      "  -36.543  -62.381   51.526]\n",
      "[-550928.927 1101943.854 1102447.39 ]\n"
     ]
    }
   ],
   "source": [
    "#適合度の確認\n",
    "t_value = beta / np.sqrt(np.diag(hessian))   #t値\n",
    "AIC = -2*LL + 2*k   #AIC\n",
    "BIC = -2*LL + np.log(hhpt)*k   #BIC\n",
    "print(np.round(t_value, 3))\n",
    "print(np.round(np.array([LL, AIC, BIC]), 3))"
   ]
  },
  {
   "cell_type": "code",
   "execution_count": null,
   "metadata": {},
   "outputs": [],
   "source": []
  }
 ],
 "metadata": {
  "kernelspec": {
   "display_name": "Python 3",
   "language": "python",
   "name": "python3"
  },
  "language_info": {
   "codemirror_mode": {
    "name": "ipython",
    "version": 3
   },
   "file_extension": ".py",
   "mimetype": "text/x-python",
   "name": "python",
   "nbconvert_exporter": "python",
   "pygments_lexer": "ipython3",
   "version": "3.6.5"
  }
 },
 "nbformat": 4,
 "nbformat_minor": 2
}
