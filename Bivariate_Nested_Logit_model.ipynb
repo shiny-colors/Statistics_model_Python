{
 "cells": [
  {
   "cell_type": "code",
   "execution_count": 1,
   "metadata": {},
   "outputs": [],
   "source": [
    "#####Bivariate Nested Logit model#####\n",
    "import numpy as np\n",
    "import pandas as pd\n",
    "import matplotlib.pyplot  as plt\n",
    "import numpy.matlib\n",
    "import scipy.linalg\n",
    "import itertools\n",
    "from scipy import sparse\n",
    "from pandas.tools.plotting import scatter_matrix\n",
    "from numpy.random import *\n",
    "from scipy import optimize\n",
    "import seaborn as sns\n",
    "import time\n",
    "\n",
    "#np.random.seed(25978)"
   ]
  },
  {
   "cell_type": "code",
   "execution_count": 2,
   "metadata": {},
   "outputs": [],
   "source": [
    "####データの発生####\n",
    "##データの設定\n",
    "hh = 10000   #プレイヤー数\n",
    "pt = 90   #観測期間\n",
    "hhpt = hh*pt   #総レコード数"
   ]
  },
  {
   "cell_type": "code",
   "execution_count": 3,
   "metadata": {},
   "outputs": [],
   "source": [
    "##IDとインデックスの設定\n",
    "#IDの設定\n",
    "user_id = np.repeat(range(hh), pt)\n",
    "pt_id = np.repeat(range(pt), hh).reshape(pt, hh).T.reshape(-1)\n",
    "\n",
    "#インデックスの設定\n",
    "index = np.array(range(hhpt))\n",
    "\n",
    "user_index = [i for i in range(hh)]\n",
    "for i in range(hh):\n",
    "    user_index[i] = index[user_id==i]"
   ]
  },
  {
   "cell_type": "code",
   "execution_count": 4,
   "metadata": {},
   "outputs": [],
   "source": [
    "##説明変数の生成\n",
    "#ログイン有無の説明変数を生成\n",
    "k1 = 4; k2 = 3; k3 = 7; k4 = 6\n",
    "x1 = np.log(1 + np.abs(np.random.normal(0, 1.0, hhpt*k1))).reshape(hhpt, k1)\n",
    "x2 = np.zeros((hhpt, k2)); x3 = np.zeros((hhpt, k3))\n",
    "for i in range(hh):\n",
    "    prob1 = np.random.beta(5.0, 7.0, k2)\n",
    "    prob2 = np.random.beta(7.5, 10.0, k3)\n",
    "    x2[user_index[i], ] = np.random.binomial(1, np.repeat(prob1, pt), pt*k2).reshape(pt, k2)\n",
    "    x3[user_index[i], ] = np.random.binomial(1, np.repeat(prob2, pt), pt*k3).reshape(pt, k3)\n",
    "x4 = np.random.multinomial(1, np.random.dirichlet(np.repeat(2.5, k4), 1).reshape(-1), hh)[user_id, ]\n",
    "x4 = np.delete(x4, np.sum(x4, axis=0).argmin(), axis=1)\n",
    "dt1 = np.hstack((np.repeat(1, hhpt).reshape(hhpt, 1), x1, x2, x3, x4))"
   ]
  },
  {
   "cell_type": "code",
   "execution_count": 5,
   "metadata": {},
   "outputs": [],
   "source": [
    "#コンバージョン有無の説明変数を生成\n",
    "k1 = 5; k2 = 4; k3 = 6; k4 = 7\n",
    "x1 = np.log(1 + np.abs(np.random.normal(0, 1.0, hhpt*k1))).reshape(hhpt, k1)\n",
    "x2 = np.zeros((hhpt, k2)); x3 = np.zeros((hhpt, k3))\n",
    "for i in range(hh):\n",
    "    prob1 = np.random.beta(5.0, 7.5, k2)\n",
    "    prob2 = np.random.beta(7.0, 10.0, k3)\n",
    "    x2[user_index[i], ] = np.random.binomial(1, np.repeat(prob1, pt), pt*k2).reshape(pt, k2)\n",
    "    x3[user_index[i], ] = np.random.binomial(1, np.repeat(prob2, pt), pt*k3).reshape(pt, k3)\n",
    "x4 = np.random.multinomial(1, np.random.dirichlet(np.repeat(2.5, k4), 1).reshape(-1), hh)[user_id, ]\n",
    "x4 = np.delete(x4, np.sum(x4, axis=0).argmin(), axis=1)\n",
    "dt2 = np.hstack((np.repeat(1, hhpt).reshape(hhpt, 1), x1, x2, x3, x4))"
   ]
  },
  {
   "cell_type": "code",
   "execution_count": 87,
   "metadata": {},
   "outputs": [
    {
     "data": {
      "text/plain": [
       "(900000, 20)"
      ]
     },
     "execution_count": 87,
     "metadata": {},
     "output_type": "execute_result"
    }
   ],
   "source": [
    "##応答変数の生成\n",
    "#パラメータの生成\n",
    "ん"
   ]
  },
  {
   "cell_type": "code",
   "execution_count": null,
   "metadata": {},
   "outputs": [],
   "source": []
  }
 ],
 "metadata": {
  "kernelspec": {
   "display_name": "Python 3",
   "language": "python",
   "name": "python3"
  },
  "language_info": {
   "codemirror_mode": {
    "name": "ipython",
    "version": 3
   },
   "file_extension": ".py",
   "mimetype": "text/x-python",
   "name": "python",
   "nbconvert_exporter": "python",
   "pygments_lexer": "ipython3",
   "version": "3.6.5"
  }
 },
 "nbformat": 4,
 "nbformat_minor": 2
}
