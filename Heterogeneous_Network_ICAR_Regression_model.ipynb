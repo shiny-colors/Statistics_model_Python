{
 "cells": [
  {
   "cell_type": "code",
   "execution_count": 51,
   "metadata": {},
   "outputs": [],
   "source": [
    "#####Heterogeneous Network ICAR Regression model##### \n",
    "import numpy as np\n",
    "import pandas as pd\n",
    "import matplotlib.pyplot  as plt\n",
    "import numpy.matlib\n",
    "import scipy.linalg\n",
    "import itertools\n",
    "import math\n",
    "from scipy import sparse\n",
    "from pandas.tools.plotting import scatter_matrix\n",
    "from numpy.random import *\n",
    "from scipy import optimize\n",
    "import seaborn as sns\n",
    "\n",
    "#np.random.seed(98537)"
   ]
  },
  {
   "cell_type": "code",
   "execution_count": 52,
   "metadata": {},
   "outputs": [],
   "source": [
    "##多項分布の乱数を生成する関数\n",
    "def rmnom(pr, n, k, no):\n",
    "    z_id = np.argmax((np.cumsum(pr, axis=1) >= np.random.uniform(0, 1, n)[:, np.newaxis]), axis=1)\n",
    "    Z = sparse.coo_matrix((np.repeat(1, n), (no, np.array(z_id))), shape=(n, k))   #スパース行列の設定\n",
    "    return Z"
   ]
  },
  {
   "cell_type": "code",
   "execution_count": 53,
   "metadata": {},
   "outputs": [
    {
     "data": {
      "text/plain": [
       "(array([ 14.,  74., 178., 300., 410., 518., 581., 578., 647., 459., 356.,\n",
       "        264., 193., 133., 101.,  74.,  60.,  27.,  16.,   5.,   5.,   4.,\n",
       "          1.,   1.,   1.]),\n",
       " array([  7.  ,  11.12,  15.24,  19.36,  23.48,  27.6 ,  31.72,  35.84,\n",
       "         39.96,  44.08,  48.2 ,  52.32,  56.44,  60.56,  64.68,  68.8 ,\n",
       "         72.92,  77.04,  81.16,  85.28,  89.4 ,  93.52,  97.64, 101.76,\n",
       "        105.88, 110.  ]),\n",
       " <a list of 25 Patch objects>)"
      ]
     },
     "execution_count": 53,
     "metadata": {},
     "output_type": "execute_result"
    },
    {
     "data": {
      "image/png": "[encoded data removed]",
      "text/plain": [
       "<Figure size 432x288 with 1 Axes>"
      ]
     },
     "metadata": {},
     "output_type": "display_data"
    }
   ],
   "source": [
    "####データの発生####\n",
    "##データの設定\n",
    "type_n = 3\n",
    "hh = 5000\n",
    "pt = np.random.poisson(np.random.gamma(10.0, 1/0.25, hh), hh)\n",
    "pt[pt <= 5] = 5\n",
    "hhpt = np.sum(pt)\n",
    "plt.hist(pt, bins=25)"
   ]
  },
  {
   "cell_type": "code",
   "execution_count": 54,
   "metadata": {},
   "outputs": [],
   "source": [
    "##IDとインデックスを作成\n",
    "#IDの作成\n",
    "user_id = np.repeat(np.arange(hh), pt)\n",
    "pt_id = np.array(list(itertools.chain(*[np.array(range(pt[i]), dtype=\"int\") for i in range(hh)])))\n",
    "\n",
    "#インデックスの設定\n",
    "index = np.array(range(hhpt))\n",
    "user_list = [i for i in range(hh)]\n",
    "for i in range(hh):\n",
    "    user_list[i] = index[user_id==i]\n",
    "user_dt = sparse.coo_matrix((np.repeat(1, hhpt), (user_id, range(hhpt))), shape=(hh, hhpt)).tocsr()   #スパース行列の設定"
   ]
  },
  {
   "cell_type": "code",
   "execution_count": 92,
   "metadata": {},
   "outputs": [
    {
     "name": "stdout",
     "output_type": "stream",
     "text": [
      "0\n",
      "1\n",
      "2\n"
     ]
    }
   ],
   "source": [
    "##ネットワークの設定\n",
    "#ユーザーセグメントとパラメータを設定\n",
    "seg = 7\n",
    "theta = np.random.dirichlet(np.repeat(0.25, seg), hh)\n",
    "Pi = np.random.beta(0.5, 12.0, seg*seg).reshape(seg, seg)\n",
    "Z = np.array(np.zeros((hh, seg, type_n)), dtype=\"int\")\n",
    "z_vec = np.array(np.zeros((hh, type_n)), dtype=\"int\")\n",
    "for j in range(type_n):\n",
    "    Z[:, :, j] = np.array(rmnom(theta, hh, seg, np.arange(hh)).todense())\n",
    "    z_vec[:, j] = np.dot(Z[:, :, j], np.arange(seg))\n",
    "\n",
    "#リンクと分散共分散行列の逆行列を定義\n",
    "Q = np.array(np.zeros((hh, hh, type_n)), dtype=\"int16\")\n",
    "C = np.array(np.zeros((hh, hh, type_n)), dtype=\"float32\")\n",
    "for j in range(type_n):\n",
    "    print(j)\n",
    "    for i in range(hh):\n",
    "        Prob = np.dot(Pi[z_vec[np.repeat(i, hh), j], ] * Z[:, :, j], np.repeat(1, seg))\n",
    "        Q[i, :, j] = np.random.binomial(1, Prob, hh)\n",
    "    Q[:, :, j] = -(np.triu(Q[:, :, j], k=1) + np.triu(Q[:, :, j], k=1).T) + np.diag(np.sum(Q[:, :, j], axis=1))\n",
    "    C[:, :, j] = np.linalg.inv(Q[:, :, j])   #Qの逆行列を作成"
   ]
  },
  {
   "cell_type": "code",
   "execution_count": 111,
   "metadata": {},
   "outputs": [],
   "source": [
    "##モデルパラメータを設定\n",
    "#分散共分散行列を設定\n",
    "tau = 0.25\n",
    "Cov = np.array(np.zeros((hh, hh, type_n)), dtype=\"float32\")\n",
    "for j in range(type_n):\n",
    "    Cov[:, :, j] = 1/tau * C[:, :, j]\n",
    "mu = np.repeat(0, hh)"
   ]
  },
  {
   "cell_type": "code",
   "execution_count": 95,
   "metadata": {},
   "outputs": [
    {
     "name": "stderr",
     "output_type": "stream",
     "text": [
      "C:\\Users\\sana\\Anaconda3\\lib\\site-packages\\ipykernel_launcher.py:1: RuntimeWarning: covariance is not positive-semidefinite.\n",
      "  \"\"\"Entry point for launching an IPython kernel.\n"
     ]
    },
    {
     "data": {
      "text/plain": [
       "array([[-0.04600284,  0.31122713,  1.4804275 , ..., -0.53142   ,\n",
       "         0.15673806,  0.3662598 ]])"
      ]
     },
     "execution_count": 95,
     "metadata": {},
     "output_type": "execute_result"
    }
   ],
   "source": [
    "np.random.multivariate_normal(mu, Cov[:, :, 0], 1)"
   ]
  },
  {
   "cell_type": "code",
   "execution_count": 94,
   "metadata": {},
   "outputs": [
    {
     "data": {
      "text/plain": [
       "array([[0.00429185, 0.        , 0.        ],\n",
       "       [0.        , 0.00259067, 0.        ],\n",
       "       [0.        , 0.        , 0.00833333]])"
      ]
     },
     "execution_count": 94,
     "metadata": {},
     "output_type": "execute_result"
    }
   ],
   "source": [
    "np.linalg.inv(Q[:, :, 0][0:3, 0:3])"
   ]
  },
  {
   "cell_type": "code",
   "execution_count": 96,
   "metadata": {},
   "outputs": [
    {
     "data": {
      "text/plain": [
       "-1"
      ]
     },
     "execution_count": 96,
     "metadata": {},
     "output_type": "execute_result"
    }
   ],
   "source": [
    "np.min(Q[:, :, 0])"
   ]
  },
  {
   "cell_type": "code",
   "execution_count": 119,
   "metadata": {},
   "outputs": [],
   "source": [
    "Q = np.array([2, -1, -1, 0, -1, 3, -1, -1, -1, -1, 3, -1, 0, -1, -1, 2]).reshape(4, 4)\n",
    "a = np.random.normal(0, 1, 4*hh).reshape(hh, 4)   "
   ]
  },
  {
   "cell_type": "code",
   "execution_count": 136,
   "metadata": {},
   "outputs": [],
   "source": [
    "y = np.dot(np.linalg.cholesky(Q), a.T).T"
   ]
  },
  {
   "cell_type": "code",
   "execution_count": 137,
   "metadata": {},
   "outputs": [
    {
     "data": {
      "text/html": [
       "<div>\n",
       "<style scoped>\n",
       "    .dataframe tbody tr th:only-of-type {\n",
       "        vertical-align: middle;\n",
       "    }\n",
       "\n",
       "    .dataframe tbody tr th {\n",
       "        vertical-align: top;\n",
       "    }\n",
       "\n",
       "    .dataframe thead th {\n",
       "        text-align: right;\n",
       "    }\n",
       "</style>\n",
       "<table border=\"1\" class=\"dataframe\">\n",
       "  <thead>\n",
       "    <tr style=\"text-align: right;\">\n",
       "      <th></th>\n",
       "      <th>0</th>\n",
       "      <th>1</th>\n",
       "      <th>2</th>\n",
       "      <th>3</th>\n",
       "    </tr>\n",
       "  </thead>\n",
       "  <tbody>\n",
       "    <tr>\n",
       "      <th>0</th>\n",
       "      <td>1.000000</td>\n",
       "      <td>-0.423420</td>\n",
       "      <td>-0.404144</td>\n",
       "      <td>0.010720</td>\n",
       "    </tr>\n",
       "    <tr>\n",
       "      <th>1</th>\n",
       "      <td>-0.423420</td>\n",
       "      <td>1.000000</td>\n",
       "      <td>-0.333302</td>\n",
       "      <td>-0.399518</td>\n",
       "    </tr>\n",
       "    <tr>\n",
       "      <th>2</th>\n",
       "      <td>-0.404144</td>\n",
       "      <td>-0.333302</td>\n",
       "      <td>1.000000</td>\n",
       "      <td>-0.414620</td>\n",
       "    </tr>\n",
       "    <tr>\n",
       "      <th>3</th>\n",
       "      <td>0.010720</td>\n",
       "      <td>-0.399518</td>\n",
       "      <td>-0.414620</td>\n",
       "      <td>1.000000</td>\n",
       "    </tr>\n",
       "  </tbody>\n",
       "</table>\n",
       "</div>"
      ],
      "text/plain": [
       "          0         1         2         3\n",
       "0  1.000000 -0.423420 -0.404144  0.010720\n",
       "1 -0.423420  1.000000 -0.333302 -0.399518\n",
       "2 -0.404144 -0.333302  1.000000 -0.414620\n",
       "3  0.010720 -0.399518 -0.414620  1.000000"
      ]
     },
     "execution_count": 137,
     "metadata": {},
     "output_type": "execute_result"
    }
   ],
   "source": [
    "pd.DataFrame(np.corrcoef(y.T))"
   ]
  },
  {
   "cell_type": "code",
   "execution_count": 134,
   "metadata": {},
   "outputs": [
    {
     "data": {
      "text/plain": [
       "array([[ 2, -1, -1,  0],\n",
       "       [-1,  3, -1, -1],\n",
       "       [-1, -1,  3, -1],\n",
       "       [ 0, -1, -1,  2]])"
      ]
     },
     "execution_count": 134,
     "metadata": {},
     "output_type": "execute_result"
    }
   ],
   "source": [
    "Q"
   ]
  },
  {
   "cell_type": "code",
   "execution_count": null,
   "metadata": {},
   "outputs": [],
   "source": []
  }
 ],
 "metadata": {
  "kernelspec": {
   "display_name": "Python 3",
   "language": "python",
   "name": "python3"
  },
  "language_info": {
   "codemirror_mode": {
    "name": "ipython",
    "version": 3
   },
   "file_extension": ".py",
   "mimetype": "text/x-python",
   "name": "python",
   "nbconvert_exporter": "python",
   "pygments_lexer": "ipython3",
   "version": "3.6.5"
  }
 },
 "nbformat": 4,
 "nbformat_minor": 2
}
