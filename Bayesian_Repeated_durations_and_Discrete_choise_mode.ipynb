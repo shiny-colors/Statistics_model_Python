{
 "cells": [
  {
   "cell_type": "code",
   "execution_count": 1,
   "metadata": {},
   "outputs": [],
   "source": [
    "#####継続時間と離散時間の同時分析のための変量効果モデル#####\n",
    "import numpy as np\n",
    "import pandas as pd\n",
    "import matplotlib.pyplot  as plt\n",
    "import numpy.matlib\n",
    "import scipy.linalg\n",
    "import itertools\n",
    "from scipy import sparse\n",
    "from pandas.tools.plotting import scatter_matrix\n",
    "from numpy.random import *\n",
    "from scipy import optimize\n",
    "import seaborn as sns\n",
    "import time\n",
    "\n",
    "#np.random.seed(20)"
   ]
  },
  {
   "cell_type": "code",
   "execution_count": 2,
   "metadata": {},
   "outputs": [],
   "source": [
    "####データの発生####\n",
    "##データの設定\n",
    "hh = 10000   #ユーザー数\n",
    "pt = np.random.poisson(np.random.gamma(15, 1/0.25, hh), hh)   #ユーザーあたりのレコード数\n",
    "hhpt = np.sum(pt)   #総レコード数\n",
    "dt = 200   #最大観測期間"
   ]
  },
  {
   "cell_type": "code",
   "execution_count": 3,
   "metadata": {},
   "outputs": [],
   "source": [
    "##IDとインデックスの設定\n",
    "#IDの設定\n",
    "user_id = np.repeat(range(hh), pt)\n",
    "pt_id = np.array(list(itertools.chain(*[np.array(range(pt[i]), dtype=\"int\") for i in range(hh)])))\n",
    "\n",
    "#インデックスの設定\n",
    "index = np.array(range(hhpt))\n",
    "user_index = [i for i in range(hh)]\n",
    "for i in range(hh):\n",
    "    user_index[i] = index[user_id==i]"
   ]
  },
  {
   "cell_type": "code",
   "execution_count": 4,
   "metadata": {},
   "outputs": [],
   "source": [
    "####説明変数の生成####\n",
    "##素性ベクトルの生成\n",
    "k1 = 6; k2 = 8; k3 = 6\n",
    "x1 = np.random.uniform(0, 1, hhpt*k1).reshape(hhpt, k1)\n",
    "x2 = np.zeros((hhpt, k2))\n",
    "for j in range(k2):\n",
    "    prob = np.random.uniform(0.25, 0.5, 1)\n",
    "    x2[:, j] = np.random.binomial(1, prob, hhpt)\n",
    "x3 = np.random.multinomial(1, np.random.dirichlet(np.repeat(2.0, k3)), hhpt)\n",
    "x3 = np.delete(x3, np.sum(x3, axis=0).argmin(), axis=1)\n",
    "x = np.hstack((np.repeat(1, hhpt).reshape(hhpt, 1), x1, x2, x3))\n",
    "\n",
    "##個体間説明変数の生成\n",
    "k1 = 4; k2 = 5; k3 = 5\n",
    "u1 = np.random.normal(0, 1, hh*k1).reshape(hh, k1)\n",
    "u2 = np.zeros((hh, k2))\n",
    "for j in range(k2):\n",
    "    prob = np.random.uniform(0.25, 0.5, 1)\n",
    "    u2[:, j] = np.random.binomial(1, prob, hh)\n",
    "u3 = np.random.multinomial(1, np.random.dirichlet(np.repeat(2.0, k3)), hh)\n",
    "u3 = np.delete(u3, np.sum(u3, axis=0).argmin(), axis=1)\n",
    "u = np.hstack((np.repeat(1, hh).reshape(hh, 1), u1, u2, u3))"
   ]
  },
  {
   "cell_type": "code",
   "execution_count": 5,
   "metadata": {},
   "outputs": [],
   "source": [
    "####継続時間の応答変数を生成####\n",
    "rp = 0\n",
    "while True:\n",
    "    rp = rp + 1\n",
    "\n",
    "    ##パラメータの設定\n",
    "    #モデルパラメータを生成\n",
    "    alpha1 = np.log(np.random.uniform(0.7, 1.3, 1))\n",
    "    beta1 = np.append(np.random.uniform(0, 1.2, 1), np.random.uniform(-0.6, 1.2, x.shape[1]-1))\n",
    "    alphat1 = alpha1; betat1= beta1\n",
    "\n",
    "    #変量効果を生成\n",
    "    tau = np.random.uniform(0.5, 0.75, 1)\n",
    "    theta = np.random.normal(0, tau, hh)   \n",
    "    taut = tau; thetat = theta\n",
    "\n",
    "    ##ワイブル分布からイベント時間を生成\n",
    "    #ワイブル分布のを尺度パラメータを設定\n",
    "    Lambda = np.exp(np.dot(x, beta1) + theta[user_id])\n",
    "\n",
    "    #イベント時間を生成\n",
    "    y_full = scipy.stats.weibull_min.rvs(np.exp(alpha1), 0, Lambda, hhpt)\n",
    "\n",
    "    #停止条件\n",
    "    if (np.max(y_full) < 1000) & (np.mean(y_full) > 5.0):\n",
    "        break"
   ]
  },
  {
   "cell_type": "code",
   "execution_count": 6,
   "metadata": {},
   "outputs": [],
   "source": [
    "##打ち切りの設定\n",
    "y_list = [i for i in range(hh)]\n",
    "z_list = [i for i in range(hh)]\n",
    "x_list = [i for i in range(hh)]\n",
    "user_id_list = [i for i in range(hh)]\n",
    "pt_id_list = [i for i in range(hh)]\n",
    "new_pt = np.repeat(0, hh)\n",
    "\n",
    "for i in range(hh):\n",
    "    #右側打ち切りのインデックスを作成\n",
    "    y_dt = y_full[user_index[i]]\n",
    "    index_censor = np.arange(pt[i])[np.cumsum(y_dt) < dt]\n",
    "\n",
    "    #打ち切りパターンにより変数を設定\n",
    "    if (pt[i] > len(index_censor)) & (len(index_censor) > 0):\n",
    "        y_list[i] = np.append(y_dt[index_censor], dt - np.max(np.cumsum(y_dt[index_censor])))\n",
    "        z_list[i] = np.append(np.repeat(0, np.max(index_censor) + 1), 1)\n",
    "    elif len(index_censor)==pt[i]:\n",
    "        y_list[i] = y_dt[index_censor]\n",
    "        z_list[i] = np.repeat(0, pt[i])\n",
    "    elif len(index_censor)==0:\n",
    "        y_list[i] = np.array([dt])\n",
    "        z_list[i] = np.array([1])\n",
    "\n",
    "    #変数を格納\n",
    "    n = len(y_list[i])\n",
    "    index = user_index[i][np.arange(n)]\n",
    "    new_pt[i] = n\n",
    "    x_list[i] = x[index, ]\n",
    "    user_id_list[i] = np.repeat(i, n) \n",
    "    pt_id_list[i] = np.arange(n)"
   ]
  },
  {
   "cell_type": "code",
   "execution_count": 7,
   "metadata": {},
   "outputs": [],
   "source": [
    "#リストを変換\n",
    "pt = new_pt\n",
    "hhpt = np.sum(pt)\n",
    "user_id = np.array(list(itertools.chain(*[user_id_list[i] for i in range(hh)])))\n",
    "pt_id = np.array(list(itertools.chain(*[pt_id_list[i] for i in range(hh)])))\n",
    "z = np.array(list(itertools.chain(*[z_list[i] for i in range(hh)])))\n",
    "y1 = np.array(list(itertools.chain(*[y_list[i] for i in range(hh)])))\n",
    "x1 = np.array(list(itertools.chain(*[x_list[i] for i in range(hh)])))\n",
    "k1 = x1.shape[1]"
   ]
  },
  {
   "cell_type": "code",
   "execution_count": 8,
   "metadata": {},
   "outputs": [],
   "source": [
    "#インデックスを設定\n",
    "index = np.arange(hhpt)\n",
    "user_index = [i for i in range(hh)]\n",
    "for i in range(hh):\n",
    "    user_index[i] = index[user_id==i]\n",
    "z_index = index[z==1]\n",
    "user_dt = sparse.coo_matrix((np.repeat(1, hhpt), (user_id, range(hhpt))), shape=(hh, hhpt)).tocsr()"
   ]
  },
  {
   "cell_type": "code",
   "execution_count": 10,
   "metadata": {},
   "outputs": [],
   "source": [
    "####離散選択の応答変数を生成####\n",
    "rp = 0\n",
    "while True:\n",
    "    rp = rp + 1\n",
    "\n",
    "    ##データの結合\n",
    "    u_vec = theta[user_id]\n",
    "    x2 = np.hstack((x1, u_vec.reshape(hhpt, 1)))\n",
    "    k2 = x2.shape[1]\n",
    "\n",
    "    ##パラメータの生成\n",
    "    beta2 = np.append(-0.7, np.random.normal(0, 0.75, k2-1))\n",
    "\n",
    "    ##ベルヌーイ分布から応答変数を生成\n",
    "    #ロジットと応答確率\n",
    "    logit = np.dot(x2, beta2)\n",
    "    prob = np.exp(logit) / (1 + np.exp(logit))\n",
    "\n",
    "    #応答変数を生成\n",
    "    y2 = np.random.binomial(1, prob, hhpt)\n",
    "\n",
    "    #停止条件\n",
    "    if (np.mean(y2) < 0.4) & (np.mean(y2) > 0.2):\n",
    "        break"
   ]
  },
  {
   "cell_type": "code",
   "execution_count": 11,
   "metadata": {},
   "outputs": [],
   "source": [
    "####マルコフ連鎖モンテカルロ法で継続時間と離散選択を同時推定####\n",
    "##ワイブル比例ハザードモデルの対数事後分布\n",
    "def LLho_w1(alpha1, beta1, beta_mu1, inv_Cov1, x1, y1, y_censorl, user_id):\n",
    "    #形状パラメータの非負制約\n",
    "    gamma = np.exp(alpha1)\n",
    "\n",
    "    #ワイブルモデルの対数尤度\n",
    "    Lambda = np.dot(x1, beta1) + theta[user_id]\n",
    "    scale = (y_censorl - Lambda) / gamma\n",
    "    LL_weibull = np.sum(z * (-np.log(gamma) + scale) - np.exp(scale))\n",
    "    \n",
    "    #多変量正規分布の対数事前分布\n",
    "    er = beta1 - beta_mu1\n",
    "    LL_mvn = np.dot(np.dot(er, inv_Cov1), er)\n",
    "    \n",
    "    #対数事後分布の和\n",
    "    LL = LL_weibull + LL_mnn\n",
    "    return LL"
   ]
  },
  {
   "cell_type": "code",
   "execution_count": 12,
   "metadata": {},
   "outputs": [],
   "source": [
    "##ワイブル比例ハザードモデルのユーザーごとの対数尤度の和\n",
    "def LLho_w2(alpha1, beta1, x1, y1, y_censorl, user_dt, user_id, hhpt):\n",
    "    #形状パラメータの非負制約\n",
    "    gamma = np.exp(alpha1)\n",
    "\n",
    "    #ワイブルモデルの対数尤度\n",
    "    Lambda = np.dot(x1, beta1) + theta[user_id]\n",
    "    scale = (y_censorl - Lambda) / gamma\n",
    "    LLi_weibull = z * (-np.log(gamma) + scale) - np.exp(scale)\n",
    "    \n",
    "    #正規分布の対数事前分布\n",
    "    er = theta - theta_mu\n",
    "    LLi_normal = np.power(er, 2) / tau\n",
    "    \n",
    "    LLi = np.array(np.dot(user_dt, sparse.csr_matrix(LLi_w.reshape(hhpt, 1))).todense()).reshape(-1) + LLi_normal\n",
    "    return LLi"
   ]
  },
  {
   "cell_type": "code",
   "execution_count": 219,
   "metadata": {},
   "outputs": [
    {
     "data": {
      "text/plain": [
       "array([0.14728253])"
      ]
     },
     "execution_count": 219,
     "metadata": {},
     "output_type": "execute_result"
    }
   ],
   "source": [
    "##ワイブル比例ハザードモデルのモデルパラメータの勾配ベクトル\n"
   ]
  },
  {
   "cell_type": "code",
   "execution_count": 226,
   "metadata": {},
   "outputs": [],
   "source": [
    "##事前分布の設定\n",
    "#階層モデルの事前分布\n",
    "theta_mu = 0\n",
    "inv_tau = 1/tau\n",
    "\n",
    "#モデルパラメータの事前分布\n",
    "beta_mu1 = np.repeat(0, k1) \n",
    "inv_Cov1 = np.linalg.inv(np.diag(np.repeat(100, k1)))\n",
    "beta_mu2 = np.repeat(0, k2) \n",
    "inv_Cov2 = np.linalg.inv(np.diag(np.repeat(100, k2)))"
   ]
  },
  {
   "cell_type": "code",
   "execution_count": 311,
   "metadata": {},
   "outputs": [],
   "source": [
    "er = beta1 - beta_mu1\n",
    "LL_mvn = -1/2 * np.dot(np.dot(er, inv_Cov1), er)"
   ]
  },
  {
   "cell_type": "code",
   "execution_count": 312,
   "metadata": {},
   "outputs": [
    {
     "data": {
      "text/plain": [
       "-0.01913310090590226"
      ]
     },
     "execution_count": 312,
     "metadata": {},
     "output_type": "execute_result"
    }
   ],
   "source": [
    "LL_mvn"
   ]
  },
  {
   "cell_type": "code",
   "execution_count": 319,
   "metadata": {},
   "outputs": [],
   "source": [
    "cd = 0\n",
    "for i in range(k1):\n",
    "    cd = cd + (-1/2 * np.power(er[i], 2) / 100)"
   ]
  },
  {
   "cell_type": "code",
   "execution_count": 326,
   "metadata": {},
   "outputs": [
    {
     "data": {
      "text/plain": [
       "array([0.14728253])"
      ]
     },
     "execution_count": 326,
     "metadata": {},
     "output_type": "execute_result"
    }
   ],
   "source": [
    "er"
   ]
  },
  {
   "cell_type": "code",
   "execution_count": 325,
   "metadata": {},
   "outputs": [
    {
     "data": {
      "text/plain": [
       "array([-0.00010846])"
      ]
     },
     "execution_count": 325,
     "metadata": {},
     "output_type": "execute_result"
    }
   ],
   "source": [
    "er = alpha - 0\n",
    "(-1/2 * np.power(er, 2) / 100)"
   ]
  },
  {
   "cell_type": "code",
   "execution_count": 321,
   "metadata": {},
   "outputs": [
    {
     "data": {
      "text/plain": [
       "array([0.14728253])"
      ]
     },
     "execution_count": 321,
     "metadata": {},
     "output_type": "execute_result"
    }
   ],
   "source": [
    "alpha"
   ]
  }
 ],
 "metadata": {
  "kernelspec": {
   "display_name": "Python 3",
   "language": "python",
   "name": "python3"
  },
  "language_info": {
   "codemirror_mode": {
    "name": "ipython",
    "version": 3
   },
   "file_extension": ".py",
   "mimetype": "text/x-python",
   "name": "python",
   "nbconvert_exporter": "python",
   "pygments_lexer": "ipython3",
   "version": "3.6.5"
  }
 },
 "nbformat": 4,
 "nbformat_minor": 2
}
