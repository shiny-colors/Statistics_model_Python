{
 "cells": [
  {
   "cell_type": "code",
   "execution_count": 248,
   "metadata": {},
   "outputs": [],
   "source": [
    "#####Hierarchical Gaussian Process Regression model####\n",
    "import numpy as np\n",
    "import pandas as pd\n",
    "import matplotlib.pyplot  as plt\n",
    "import numpy.matlib\n",
    "import scipy.linalg\n",
    "import itertools\n",
    "import math\n",
    "from scipy import sparse\n",
    "from pandas.tools.plotting import scatter_matrix\n",
    "from numpy.random import *\n",
    "from scipy import optimize\n",
    "import seaborn as sns\n",
    "\n",
    "#np.random.seed(98537)"
   ]
  },
  {
   "cell_type": "code",
   "execution_count": 249,
   "metadata": {},
   "outputs": [],
   "source": [
    "###乱数を生成する関数を設定####\n",
    "##多項分布の乱数を生成する関数\n",
    "def rmnom(pr, n, k, no):\n",
    "    z_id = np.argmax((np.cumsum(pr, axis=1) >= np.random.uniform(0, 1, n)[:, np.newaxis]), axis=1)\n",
    "    Z = sparse.coo_matrix((np.repeat(1, n), (no, np.array(z_id))), shape=(n, k))   #スパース行列の設定\n",
    "    return Z\n",
    "\n",
    "##多変量正規分布の乱数を生成する関数\n",
    "def rmvnorm(mu, Cov, hh, k):\n",
    "    s = mu + np.random.normal(0, 1, hh*k).reshape(hh, k)\n",
    "    P = np.linalg.cholesky(Cov)\n",
    "    y = np.dot(P, s.T).T\n",
    "    return y\n",
    "\n",
    "##任意の相関行列を作る関数\n",
    "def CorM(col, lower, upper, eigen_lower, eigen_upper):\n",
    "    #相関行列の初期値を定義する\n",
    "    cov_vec = np.random.uniform(lower, upper, col*col)   #相関係数の乱数ベクトルを作成\n",
    "    rho = np.tril(cov_vec.reshape(col, col), k=-1)   #乱数ベクトルを下三角行列化\n",
    "    Sigma = (rho + rho.T) + np.diag(np.repeat(1, col))   #対角成分を1にする\n",
    "    \n",
    "    #相関行列を正定値行列に変更\n",
    "    #固有値分解を実行\n",
    "    eigen = np.linalg.eigh(Sigma)\n",
    "    eigen_val = eigen[0] \n",
    "    eigen_vec = eigen[1]\n",
    "    \n",
    "    #固有値が負の数値を正にする\n",
    "    for i in range(col):\n",
    "        if eigen_val[i] < 0:\n",
    "            eigen_val[i] = np.random.uniform(eigen_lower, eigen_upper, 1)\n",
    "            \n",
    "    #新しい相関行列の定義と対角成分を1にする\n",
    "    Sigma = np.dot(np.dot(eigen_vec, np.diag(eigen_val)), eigen_vec.T)\n",
    "    normalization_factor = np.dot(np.power(np.diag(Sigma), 0.5)[:, np.newaxis], np.power(np.diag(Sigma), 0.5)[np.newaxis, :])\n",
    "    Cor = Sigma / normalization_factor\n",
    "    return Cor\n",
    "\n",
    "##相関行列から分散共分散行列に変換する関数\n",
    "def covmatrix(Cor, sigma_lower, sigma_upper):\n",
    "    sigma = (sigma_upper - sigma_lower) * rand(np.diag(Cor).shape[0]) + sigma_lower\n",
    "    sigma_factor = np.dot(sigma[:, np.newaxis], sigma[np.newaxis, :])\n",
    "    Cov = Cor * sigma_factor\n",
    "    return Cov\n",
    "\n",
    "##分散共分散行列から相関行列に変換する関数\n",
    "def cov2cor(Cov):\n",
    "    D = np.diag(np.power(np.diag(Cov), -1/2))\n",
    "    corr = np.dot(np.dot(D, Cov), D)\n",
    "    return corr"
   ]
  },
  {
   "cell_type": "code",
   "execution_count": 250,
   "metadata": {},
   "outputs": [
    {
     "data": {
      "text/plain": [
       "(array([ 17.,  53., 155., 255., 515., 563., 565., 544., 622., 458., 355.,\n",
       "        264., 237., 135.,  80.,  56.,  45.,  32.,  21.,   9.,   8.,   4.,\n",
       "          2.,   2.,   3.]),\n",
       " array([  6.  ,  10.24,  14.48,  18.72,  22.96,  27.2 ,  31.44,  35.68,\n",
       "         39.92,  44.16,  48.4 ,  52.64,  56.88,  61.12,  65.36,  69.6 ,\n",
       "         73.84,  78.08,  82.32,  86.56,  90.8 ,  95.04,  99.28, 103.52,\n",
       "        107.76, 112.  ]),\n",
       " <a list of 25 Patch objects>)"
      ]
     },
     "execution_count": 250,
     "metadata": {},
     "output_type": "execute_result"
    },
    {
     "data": {
      "image/png": "[encoded data removed]",
      "text/plain": [
       "<Figure size 432x288 with 1 Axes>"
      ]
     },
     "metadata": {},
     "output_type": "display_data"
    }
   ],
   "source": [
    "####データの発生####\n",
    "##データの設定\n",
    "type_n = 3\n",
    "hh = 5000\n",
    "pt = np.random.poisson(np.random.gamma(10.0, 1/0.25, hh), hh)\n",
    "pt[pt <= 5] = 5\n",
    "hhpt = np.sum(pt)\n",
    "plt.hist(pt, bins=25)"
   ]
  },
  {
   "cell_type": "code",
   "execution_count": 251,
   "metadata": {},
   "outputs": [],
   "source": [
    "##IDとインデックスを作成\n",
    "#IDの作成\n",
    "user_id = np.repeat(np.arange(hh), pt)\n",
    "pt_id = np.array(list(itertools.chain(*[np.array(range(pt[i]), dtype=\"int\") for i in range(hh)])))\n",
    "\n",
    "#インデックスの設定\n",
    "index = np.array(range(hhpt))\n",
    "user_list = [i for i in range(hh)]\n",
    "for i in range(hh):\n",
    "    user_list[i] = index[user_id==i]\n",
    "user_dt = sparse.coo_matrix((np.repeat(1, hhpt), (user_id, range(hhpt))), shape=(hh, hhpt)).tocsr()   #スパース行列の設定"
   ]
  },
  {
   "cell_type": "code",
   "execution_count": 252,
   "metadata": {},
   "outputs": [],
   "source": [
    "##説明変数の生成\n",
    "##素性ベクトルを生成\n",
    "k1 = 4; k2 = 5; k3 = 4\n",
    "x1 = np.array(np.random.random(hhpt*k1)).reshape((hhpt, k1))\n",
    "x2 = np.zeros((hhpt, k2))\n",
    "for j in range(k2):\n",
    "    prob = np.random.uniform(0.25, 0.55, 1)\n",
    "    x2[:, j] = np.random.binomial(1, prob, hhpt)\n",
    "x3 = np.random.multinomial(1, np.random.dirichlet(np.repeat(3.0, k3), 1).reshape(k3), hhpt)\n",
    "x3 = np.delete(x3, np.argmin(np.sum(x3, axis=0)), axis=1)   #冗長な変数の削除\n",
    "x = np.concatenate((np.repeat(1, hhpt)[:, np.newaxis], x1, x2, x3), axis=1)\n",
    "x_col = x.shape[1]"
   ]
  },
  {
   "cell_type": "code",
   "execution_count": 253,
   "metadata": {},
   "outputs": [],
   "source": [
    "##階層モデルのカーネルを生成\n",
    "#データとパラメータの設定\n",
    "k = 20\n",
    "v = 350\n",
    "w = np.random.poisson(np.random.gamma(10, 1/0.2, hh), hh)\n",
    "theta = np.random.dirichlet(np.repeat(0.2, k), hh)\n",
    "phi = np.random.dirichlet(np.repeat(0.1, v), k)\n",
    "\n",
    "#データの生成\n",
    "W = np.array(np.zeros((hh, v)), dtype=\"int\")\n",
    "for i in range(hh):\n",
    "    Z = np.random.multinomial(1, theta[i, ], w[i])\n",
    "    z_vec = np.dot(Z, np.arange(k))\n",
    "    W[i, ] = np.array(np.sum(np.array(rmnom(phi[z_vec, ], w[i], v, np.arange(w[i])).todense()), axis=0) > 0, dtype=\"int\")\n",
    "    \n",
    "#カーネルの設定\n",
    "K = cov2cor(np.dot(W, W.T))"
   ]
  },
  {
   "cell_type": "code",
   "execution_count": 255,
   "metadata": {},
   "outputs": [
    {
     "name": "stdout",
     "output_type": "stream",
     "text": [
      "0\n",
      "1\n",
      "2\n",
      "3\n",
      "4\n",
      "5\n",
      "6\n",
      "7\n",
      "8\n",
      "9\n",
      "10\n",
      "11\n",
      "12\n"
     ]
    }
   ],
   "source": [
    "##応答変数を生成\n",
    "#パラメータを生成\n",
    "mu = np.append(-1.0, np.repeat(0, k-1))\n",
    "tau = np.append(4.5, np.random.uniform(1.5, 4.5, k-1))\n",
    "theta = np.zeros((hh, x_col))\n",
    "for j in range(x_col):\n",
    "    print(j)\n",
    "    theta[:, j] = np.random.multivariate_normal(np.repeat(mu[j], hh), tau[j]*K, 1)\n",
    "\n",
    "#ロジスティック回帰モデルから応答変数を生成\n",
    "logit = np.dot(x * theta[user_id, ], np.repeat(1, x_col))\n",
    "Prob = np.exp(logit) / (1 + np.exp(logit))\n",
    "y = np.random.binomial(1, Prob, hhpt)\n",
    "y_vec = y[:, np.newaxis]"
   ]
  },
  {
   "cell_type": "code",
   "execution_count": 256,
   "metadata": {
    "scrolled": false
   },
   "outputs": [
    {
     "name": "stdout",
     "output_type": "stream",
     "text": [
      "0.407365668950595\n"
     ]
    },
    {
     "data": {
      "text/plain": [
       "(array([58925., 13056.,  8516.,  6534.,  5284.,  4648.,  4125.,  3901.,\n",
       "         3570.,  3444.,  3243.,  3191.,  3071.,  3124.,  3149.,  3151.,\n",
       "         3283.,  3346.,  3582.,  4054.,  4492.,  5110.,  6477.,  9167.,\n",
       "        29213.]),\n",
       " array([6.16494428e-10, 4.00000004e-02, 8.00000002e-02, 1.20000000e-01,\n",
       "        1.60000000e-01, 2.00000000e-01, 2.39999999e-01, 2.79999999e-01,\n",
       "        3.19999999e-01, 3.59999999e-01, 3.99999999e-01, 4.39999998e-01,\n",
       "        4.79999998e-01, 5.19999998e-01, 5.59999998e-01, 5.99999998e-01,\n",
       "        6.39999997e-01, 6.79999997e-01, 7.19999997e-01, 7.59999997e-01,\n",
       "        7.99999997e-01, 8.39999996e-01, 8.79999996e-01, 9.19999996e-01,\n",
       "        9.59999996e-01, 9.99999996e-01]),\n",
       " <a list of 25 Patch objects>)"
      ]
     },
     "execution_count": 256,
     "metadata": {},
     "output_type": "execute_result"
    },
    {
     "data": {
      "image/png": "[encoded data removed]",
      "text/plain": [
       "<Figure size 432x288 with 1 Axes>"
      ]
     },
     "metadata": {},
     "output_type": "display_data"
    }
   ],
   "source": [
    "#データの確認\n",
    "print(np.mean(y))\n",
    "plt.hist(Prob, bins=25)"
   ]
  },
  {
   "cell_type": "code",
   "execution_count": 262,
   "metadata": {},
   "outputs": [],
   "source": [
    "####マルコフ連鎖モンテカルロ法でモデルを推定####\n",
    "##アルゴリズムの設定\n",
    "R = 2000\n",
    "keep = 4\n",
    "burnin = int(500/keep)\n",
    "iter = 0\n",
    "disp = 10\n",
    "e = 0.01\n",
    "L = 3"
   ]
  },
  {
   "cell_type": "code",
   "execution_count": 264,
   "metadata": {},
   "outputs": [],
   "source": [
    "##パラメータ推定のための関数を定義\n",
    "#対数事後分布を計算する関数\n",
    "def loglike(theta, y, X, u_mu, inv_Cov, user_id, user_dt, hhpt, k): \n",
    "    #ロジットモデルの対数尤度\n",
    "    mu = np.exp(np.dot(X * theta[user_id, ], np.repeat(1, k)))   #ロジットの指数変換\n",
    "    Prob = mu / (1 + mu)   \n",
    "    LLi_logit = y*np.log(Prob) + (1-y)*np.log(1-Prob)   #ロジットモデルの対数尤度\n",
    "\n",
    "    #多変量正規分布の対数尤度\n",
    "    er = theta - u_mu   #パラメータの誤差\n",
    "    LLi_mvn = -1/2 * np.dot(np.dot(er, inv_Cov) * er, np.repeat(1, k))\n",
    "\n",
    "    #ユーザーごとの対数事後分布\n",
    "    LLi = np.array(np.dot(user_dt, sparse.csc_matrix(LLi_logit.reshape(hhpt, 1))).todense()).reshape(-1) + LLi_mvn\n",
    "    return LLi\n",
    "\n",
    "#対数事後分布の微分関数\n",
    "def dloglike(theta, y, X, u_mu, inv_Cov, user_id, user_list, hhpt, k):\n",
    "    #ロジットモデルの対数尤度\n",
    "    mu = np.exp(np.dot(X * theta[user_id, ], np.repeat(1, k)))   #ロジットの指数変換\n",
    "    Prob = mu / (1 + mu)   \n",
    "\n",
    "    #微分関数の設定\n",
    "    er = theta - u_mu   #パラメータの誤差\n",
    "    dlogit = y.reshape(hhpt, 1)*X - Prob.reshape(hhpt, 1)*X   #ロジスティック回帰の対数尤度の微分関数\n",
    "    dmvn = -np.dot(inv_Cov, er.T).T   #多変量正規分布の対数事前分布の微分関数\n",
    "\n",
    "    #勾配ベクトルの設定\n",
    "    dlogit_sums = np.zeros((hh, k))\n",
    "    for i in range(hh):\n",
    "        dlogit_sums[i, ] = np.sum(dlogit[user_list[i], ], axis=0)\n",
    "    LLd = -(dlogit_sums + dmvn)\n",
    "    return LLd\n",
    "\n",
    "##リープフロッグ法を解く関数\n",
    "def leapfrog(r, z, D, e, L): \n",
    "    def leapfrog_step(r, z, e):\n",
    "        r2 = r - e * D(z, y, X, u_mu, inv_Cov, user_id, user_list, hhpt, k) / 2\n",
    "        z2 = z + e * r2\n",
    "        r2 = r2 - e * D(z2, y, X, u_mu, inv_Cov, user_id, user_list, hhpt, k) / 2\n",
    "        return [r2, z2]   #1回の移動後の運動量と座標\n",
    "    leapfrog_result = [r, z]\n",
    "    for i in range(L):\n",
    "        leapfrog_result = leapfrog_step(leapfrog_result[0], leapfrog_result[1], e)\n",
    "    return leapfrog_result"
   ]
  },
  {
   "cell_type": "code",
   "execution_count": null,
   "metadata": {},
   "outputs": [],
   "source": []
  }
 ],
 "metadata": {
  "kernelspec": {
   "display_name": "Python 3",
   "language": "python",
   "name": "python3"
  },
  "language_info": {
   "codemirror_mode": {
    "name": "ipython",
    "version": 3
   },
   "file_extension": ".py",
   "mimetype": "text/x-python",
   "name": "python",
   "nbconvert_exporter": "python",
   "pygments_lexer": "ipython3",
   "version": "3.6.5"
  }
 },
 "nbformat": 4,
 "nbformat_minor": 2
}
