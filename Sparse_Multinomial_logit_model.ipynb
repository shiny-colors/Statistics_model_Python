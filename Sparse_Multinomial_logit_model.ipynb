{
 "cells": [
  {
   "cell_type": "code",
   "execution_count": 2,
   "metadata": {
    "collapsed": true
   },
   "outputs": [],
   "source": [
    "####スパース多項ロジットモデル####\n",
    "import numpy as np\n",
    "import pandas as pd\n",
    "import matplotlib.pyplot  as plt\n",
    "import numpy.matlib\n",
    "import scipy\n",
    "import scipy.stats as ss\n",
    "from numpy.random import *\n",
    "from scipy import optimize\n",
    "from scipy.stats import norm\n",
    "\n",
    "#np.random.seed(8742)   #シードを設定"
   ]
  },
  {
   "cell_type": "code",
   "execution_count": 10,
   "metadata": {},
   "outputs": [
    {
     "data": {
      "text/plain": [
       "array([[ 1.,  0.,  0.],\n",
       "       [ 0.,  1.,  0.],\n",
       "       [ 0.,  0.,  1.]])"
      ]
     },
     "execution_count": 10,
     "metadata": {},
     "output_type": "execute_result"
    }
   ],
   "source": [
    "####データの発生####\n",
    "##データの設定\n",
    "hh1 = 5000   #学習用データのサンプル数\n",
    "hh2 = 3000   #検証用データのサンプル数\n",
    "hh = hh1 + hh2   #総サンプル数\n",
    "select = 10   #選択肢数\n",
    "k1 = 300   #連続変数の説明変数\n",
    "k2 = 200   #離散変数の説明変数\n",
    "k = k1 + k2   #説明変数数\n"
   ]
  },
  {
   "cell_type": "code",
   "execution_count": 176,
   "metadata": {},
   "outputs": [],
   "source": [
    "##説明変数の生成\n",
    "#連続変数の生成\n",
    "X1 = numpy.random.multivariate_normal(np.repeat(0, k1), np.identity(k1), hh)\n",
    "\n",
    "#離散変数の生成\n",
    "X2 = np.zeros((hh, k2))\n",
    "for j in range(k2):\n",
    "    pr = uniform(0.25, 0.75, 1)\n",
    "    X2[:, j] = numpy.random.binomial(1, pr, hh)\n",
    "    \n",
    "#データの結合\n",
    "intercept = np.repeat(1, hh)[:, np.newaxis]\n",
    "X = np.concatenate((intercept, X1, X2), axis=1)\n",
    "X1 = X[0:hh1, :]\n",
    "X2 = X[hh1:hh, :]"
   ]
  },
  {
   "cell_type": "code",
   "execution_count": 177,
   "metadata": {},
   "outputs": [
    {
     "data": {
      "text/plain": [
       "array([  929.,   557.,   953.,  1251.,   525.,   607.,   978.,  1413.,\n",
       "         620.,   167.])"
      ]
     },
     "execution_count": 177,
     "metadata": {},
     "output_type": "execute_result"
    }
   ],
   "source": [
    "##応答変数の生成\n",
    "#パラメータの設定\n",
    "zeros = np.repeat(0, k+1)[:, np.newaxis]\n",
    "theta = np.concatenate((np.random.multivariate_normal(np.repeat(0, k+1), 0.05 * np.identity(k+1), select-1).T, zeros), axis=1)\n",
    "theta[np.abs(theta0) > 0.2] = 0   #パラメータをゼロにシュリンク\n",
    "thetat = theta\n",
    "\n",
    "#ロジットと選択確率を設定\n",
    "logit = np.dot(X, theta)   #ロジット\n",
    "Pr = np.exp(logit) / np.matlib.repmat(np.sum(np.exp(logit), axis=1), select, 1).T   #選択確率\n",
    "\n",
    "#多項分布から選択結果を生成\n",
    "y = np.zeros((hh, select))\n",
    "for i in range(hh):\n",
    "   y[i, :] = np.random.multinomial(1, Pr[i, ], 1)\n",
    "y1 = y[0:hh1, :]\n",
    "y2 = y[hh1:hh, :]\n",
    "np.sum(y, axis=0)"
   ]
  },
  {
   "cell_type": "code",
   "execution_count": 178,
   "metadata": {},
   "outputs": [],
   "source": [
    "####総当たり座標降下法でスパース多項ロジットモデルを推定####\n",
    "##多項ロジットモデルの対数尤度の関数\n",
    "def define_likelihood(y, X, theta, select):\n",
    "    \n",
    "    #ロジットと選択確率の計算\n",
    "    logit = np.dot(X, theta)\n",
    "    Pr = np.exp(logit) / np.matlib.repmat(np.sum(np.exp(logit), axis=1), select, 1).T\n",
    "\n",
    "    #対数尤度の計算\n",
    "    LL = np.sum(y * np.log(Pr))\n",
    "    return(LL)\n",
    "\n",
    "##座標降下法の設定\n",
    "#正則化パラメータの設定\n",
    "n = 15\n",
    "lambda_vec = np.arange(0.001, 0.01, (0.01-0.001)/n)\n",
    "n_lambda = hh1 * lambda_vec\n",
    "X1_sq = np.power(X1, 2)\n",
    "\n",
    "#ベストな対数尤度\n",
    "LLbest = define_likelihood(y2, X2, thetat, select)\n",
    "\n",
    "#パラメータの格納用配列\n",
    "LLtest = np.array(())\n",
    "THETA = np.zeros((k+1, select, n))"
   ]
  },
  {
   "cell_type": "code",
   "execution_count": 195,
   "metadata": {},
   "outputs": [
    {
     "data": {
      "text/plain": [
       "0.14666666666666661"
      ]
     },
     "execution_count": 195,
     "metadata": {},
     "output_type": "execute_result"
    }
   ],
   "source": [
    "####スパース正則化多項ロジットモデルで正則化パラメータを最適化####\n",
    "##アルゴリズムの設定\n",
    "#パラメータの初期値\n",
    "theta = np.zeros((k+1, select))\n",
    "LL = define_likelihood(y1, X1, thetat, select)\n",
    "\n",
    "#アルゴリズムの更新ステータス\n",
    "LLs = LL\n",
    "iter = 1\n",
    "dl = -100   #対数尤度の差の初期値\n",
    "tol = 2.5   #収束判定\n",
    "LL1 = LL   #対数尤度の初期値\n",
    "\n",
    "\n",
    "##ロジットと選択確率を定義\n",
    "logit = np.dot(X1, theta)\n",
    "Pr = np.exp(logit) / np.matlib.repmat(np.sum(np.exp(logit), axis=1), select, 1).T\n",
    "\n",
    "##パラメータの更新\n",
    "#微分係数のパラメータを更新\n",
    "w = (Pr * (1 - Pr))[:, -select]\n",
    "z = logit[:, -select] + (y1 - Pr)[:, -select] / w\n",
    "\n",
    "#切片の更新\n",
    "theta[1, -select] \n",
    "np.sum(w * (z - logit[:, -select]), axis=0) / np.sum(w, axis=0)"
   ]
  },
  {
   "cell_type": "code",
   "execution_count": 196,
   "metadata": {},
   "outputs": [
    {
     "data": {
      "text/plain": [
       "array([ 0.9, -0.1, -0.1, ..., -0.1, -0.1, -0.1])"
      ]
     },
     "execution_count": 196,
     "metadata": {},
     "output_type": "execute_result"
    }
   ],
   "source": [
    "w * (z - logit[:, -select])"
   ]
  },
  {
   "cell_type": "code",
   "execution_count": 198,
   "metadata": {},
   "outputs": [
    {
     "data": {
      "text/plain": [
       "array([ 0.,  0.,  0.,  0.,  0.,  0.,  0.,  0.,  0.,  0.])"
      ]
     },
     "execution_count": 198,
     "metadata": {},
     "output_type": "execute_result"
    }
   ],
   "source": []
  },
  {
   "cell_type": "code",
   "execution_count": null,
   "metadata": {
    "collapsed": true
   },
   "outputs": [],
   "source": []
  }
 ],
 "metadata": {
  "kernelspec": {
   "display_name": "Python 3",
   "language": "python",
   "name": "python3"
  },
  "language_info": {
   "codemirror_mode": {
    "name": "ipython",
    "version": 3
   },
   "file_extension": ".py",
   "mimetype": "text/x-python",
   "name": "python",
   "nbconvert_exporter": "python",
   "pygments_lexer": "ipython3",
   "version": "3.6.3"
  }
 },
 "nbformat": 4,
 "nbformat_minor": 2
}
