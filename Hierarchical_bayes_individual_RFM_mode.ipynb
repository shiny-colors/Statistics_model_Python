{
 "cells": [
  {
   "cell_type": "code",
   "execution_count": 2,
   "metadata": {},
   "outputs": [],
   "source": [
    "#####Hierarchical bayes individual RFM model#####\n",
    "import numpy as np\n",
    "import pandas as pd\n",
    "import matplotlib.pyplot  as plt\n",
    "import numpy.matlib\n",
    "import scipy\n",
    "import scipy.linalg\n",
    "import scipy.stats as ss\n",
    "import itertools\n",
    "from numpy.random import *\n",
    "from scipy import optimize\n",
    "from scipy.stats import norm\n",
    "from scipy import sparse"
   ]
  },
  {
   "cell_type": "code",
   "execution_count": 5,
   "metadata": {},
   "outputs": [],
   "source": [
    "####任意の相関行列(分散共分散行列)を作成する関数####\n",
    "##任意の相関行列を作る関数\n",
    "def CorM(col, lower, upper, eigen_lower, eigen_upper):\n",
    "    #相関行列の初期値を定義する\n",
    "    cov_vec = (upper - lower) *rand(col*col) + lower   #相関係数の乱数ベクトルを作成\n",
    "    rho = np.reshape(np.array(cov_vec), (col, col)) * np.tri(col)   #乱数ベクトルを下三角行列化\n",
    "    Sigma = np.diag(np.diag(rho + rho.T) + 1) - (rho + rho.T)   #対角成分を1にする\n",
    "    \n",
    "    #相関行列を正定値行列に変更\n",
    "    #固有値分解を実行\n",
    "    eigen = scipy.linalg.eigh(Sigma)\n",
    "    eigen_val = eigen[0] \n",
    "    eigen_vec = eigen[1]\n",
    "    \n",
    "    #固有値が負の数値を正にする\n",
    "    for i in range(eigen_val.shape[0]-1):\n",
    "        if eigen_val[i] < 0:\n",
    "            eigen_val[i] = (eigen_upper - eigen_lower) * rand(1) + eigen_lower\n",
    "            \n",
    "    #新しい相関行列の定義と対角成分を1にする\n",
    "    Sigma = np.dot(np.dot(eigen_vec, np.diag(eigen_val)), eigen_vec.T)\n",
    "    normalization_factor = np.dot(pow(np.diag(Sigma), 0.5)[:, np.newaxis], pow(np.diag(Sigma), 0.5)[np.newaxis, :])\n",
    "    Cor = Sigma / normalization_factor\n",
    "    return Cor\n",
    "\n",
    "##相関行列から分散共分散行列に変換する関数\n",
    "def covmatrix(Cor, sigma_lower, sigma_upper):\n",
    "    sigma = (sigma_upper - sigma_lower) * rand(np.diag(Cor).shape[0]) + sigma_lower\n",
    "    sigma_factor = np.dot(sigma[:, np.newaxis], sigma[np.newaxis, :])\n",
    "    Cov = Cor * sigma_factor\n",
    "    return Cov\n",
    "\n",
    "##\n",
    "def cov2cor(Cov):\n",
    "    D = np.diag(np.power(np.diag(Cov), -1/2))\n",
    "    corr = np.dot(np.dot(D, Cov), D)\n",
    "    return corr"
   ]
  },
  {
   "cell_type": "code",
   "execution_count": 3,
   "metadata": {},
   "outputs": [],
   "source": [
    "####データの発生####\n",
    "##データの設定\n",
    "k = 3\n",
    "hh = 10000   #ユーザー数\n",
    "period = 200   #観測期間"
   ]
  },
  {
   "cell_type": "code",
   "execution_count": 33,
   "metadata": {},
   "outputs": [],
   "source": [
    "##階層モデルの説明変数を生成\n",
    "#ユーザーの説明変数を生成\n",
    "k1 = 3; k2 = 5; k3 = 5\n",
    "u1 = np.array(np.random.random(hh*k1)).reshape((hh, k1))\n",
    "u2 = np.zeros((hh, k2))\n",
    "for j in range(k2):\n",
    "    prob = np.random.uniform(0.25, 0.55, 1)\n",
    "    u2[:, j] = np.random.binomial(1, prob, hh)\n",
    "u3 = np.random.multinomial(1, np.random.dirichlet(np.repeat(3.0, k3), 1).reshape(k3), hh)\n",
    "u3 = np.delete(u3, np.argmin(np.sum(u3, axis=0)), axis=1)   #冗長な変数の削除\n",
    "u = np.concatenate((np.repeat(1, hh)[:, np.newaxis], u1, u2, u3), axis=1)\n",
    "u_col = u.shape[1]"
   ]
  },
  {
   "cell_type": "code",
   "execution_count": 45,
   "metadata": {},
   "outputs": [],
   "source": [
    "##ユーザーごとにデータを生成\n",
    "#分散共分散行列を設定\n",
    "Cor = np.identity((k))\n",
    "Cor[1, 0] = Cor[0, 1] = 0.5; Cor[2, 1] = Cor[1, 2] = 0.4; Cor[0, 2] = Cor[2, 0] = 0\n",
    "tau = np.array([0.1, 0.15, 0.05])\n",
    "Cov = covmatrix(Cor, np.sqrt(tau), np.sqrt(tau))\n",
    "Covt = Cov.copy()\n",
    "\n",
    "#階層モデルの回帰パラメータ\n",
    "beta1 = np.array([1.75, 4.25, 1.5])\n",
    "beta2 = np.hstack((np.random.uniform(-0.55, 0.75, (k-1)*(u_col-1)).reshape(u_col-1, k-1), \n",
    "                   np.random.uniform(-0.5, 0.5, u_col-1).reshape(u_col-1, 1)))\n",
    "beta = np.vstack((beta1, beta2))\n",
    "betat = beta.copy()\n",
    "\n",
    "#階層モデルからモデルパラメータを生成\n",
    "theta = np.dot(u, beta) + np.random.multivariate_normal(np.repeat(0, k), Cov, hh)\n",
    "Sigma = 0.75\n",
    "thetat = theta.copy(); Sigmat = Sigma\n",
    "\n"
   ]
  },
  {
   "cell_type": "code",
   "execution_count": 31,
   "metadata": {},
   "outputs": [],
   "source": []
  },
  {
   "cell_type": "code",
   "execution_count": 30,
   "metadata": {},
   "outputs": [
    {
     "data": {
      "text/plain": [
       "array([[1. , 0.5, 0. ],\n",
       "       [0.5, 1. , 0.4],\n",
       "       [0. , 0.4, 1. ]])"
      ]
     },
     "execution_count": 30,
     "metadata": {},
     "output_type": "execute_result"
    }
   ],
   "source": [
    "Cor"
   ]
  },
  {
   "cell_type": "code",
   "execution_count": null,
   "metadata": {},
   "outputs": [],
   "source": []
  }
 ],
 "metadata": {
  "kernelspec": {
   "display_name": "Python 3",
   "language": "python",
   "name": "python3"
  },
  "language_info": {
   "codemirror_mode": {
    "name": "ipython",
    "version": 3
   },
   "file_extension": ".py",
   "mimetype": "text/x-python",
   "name": "python",
   "nbconvert_exporter": "python",
   "pygments_lexer": "ipython3",
   "version": "3.6.5"
  }
 },
 "nbformat": 4,
 "nbformat_minor": 2
}
