{
 "cells": [
  {
   "cell_type": "code",
   "execution_count": 1,
   "metadata": {},
   "outputs": [],
   "source": [
    "#####Multinomial distribution random number generation####\n",
    "import numpy as np\n",
    "import pandas as pd\n",
    "import scipy\n",
    "import itertools\n",
    "from numpy.random import *\n",
    "from scipy import sparse"
   ]
  },
  {
   "cell_type": "code",
   "execution_count": 101,
   "metadata": {},
   "outputs": [],
   "source": [
    "##データの設定\n",
    "n = 500000\n",
    "no = np.array(range(n))\n",
    "k = 15\n",
    "vec_k = np.array(range(k))\n",
    "pr = np.random.dirichlet(np.repeat(0.15, k), n)\n",
    "pr = np.repeat(np.random.dirichlet(np.repeat(0.15, k), 1).reshape(-1), n).reshape(n, k, order=\"F\")"
   ]
  },
  {
   "cell_type": "code",
   "execution_count": 102,
   "metadata": {},
   "outputs": [],
   "source": [
    "##多項分布の乱数を生成する関数\n",
    "def rmnom(pr, n, k, no):\n",
    "    z_id = np.argmax((np.cumsum(pr, axis=1) > np.random.rand(n).reshape(n, 1)), axis=1)\n",
    "    Z = sparse.coo_matrix((np.repeat(1, n), (no, np.array(z_id))), shape=(n, k)).todense()   #スパース行列の設定\n",
    "    return Z"
   ]
  },
  {
   "cell_type": "code",
   "execution_count": 103,
   "metadata": {},
   "outputs": [
    {
     "name": "stdout",
     "output_type": "stream",
     "text": [
      "Wall time: 840 ms\n"
     ]
    }
   ],
   "source": [
    "%%time\n",
    "Z1 = np.zeros((n, k))\n",
    "for i in range(n):\n",
    "    Z1[i, ] = np.random.multinomial(1, pr[i, ], 1)"
   ]
  },
  {
   "cell_type": "code",
   "execution_count": 104,
   "metadata": {},
   "outputs": [
    {
     "name": "stdout",
     "output_type": "stream",
     "text": [
      "Wall time: 902 ms\n"
     ]
    }
   ],
   "source": [
    "%%time\n",
    "Z2 = np.array([np.random.multinomial(1, pr[i, ], 1) for i in range(n)]).reshape(n, k)"
   ]
  },
  {
   "cell_type": "code",
   "execution_count": 105,
   "metadata": {},
   "outputs": [
    {
     "name": "stdout",
     "output_type": "stream",
     "text": [
      "Wall time: 80.1 ms\n"
     ]
    }
   ],
   "source": [
    "%%time\n",
    "Z3 = rmnom(pr, n, k, no)"
   ]
  },
  {
   "cell_type": "code",
   "execution_count": 106,
   "metadata": {},
   "outputs": [
    {
     "name": "stdout",
     "output_type": "stream",
     "text": [
      "[    18 391607   1185  18081     23  46264      0   2970     32      0\n",
      "  22663    187  16929     41      0]\n",
      "[    16 391241   1204  17957     26  46463      0   2992     30      0\n",
      "  22919    170  16937     45      0]\n",
      "[    24 392266   1256  17929     31  45732      0   2966     35      0\n",
      "  22634    156  16941     30      0]\n"
     ]
    }
   ],
   "source": [
    "#結果の確認\n",
    "print(np.array(np.sum(Z1, axis=0), dtype=\"int\"))\n",
    "print(np.sum(Z2, axis=0))\n",
    "print(np.array(np.sum(Z3, axis=0)).reshape(-1))"
   ]
  },
  {
   "cell_type": "code",
   "execution_count": null,
   "metadata": {},
   "outputs": [],
   "source": []
  }
 ],
 "metadata": {
  "kernelspec": {
   "display_name": "Python 3",
   "language": "python",
   "name": "python3"
  },
  "language_info": {
   "codemirror_mode": {
    "name": "ipython",
    "version": 3
   },
   "file_extension": ".py",
   "mimetype": "text/x-python",
   "name": "python",
   "nbconvert_exporter": "python",
   "pygments_lexer": "ipython3",
   "version": "3.7.0"
  }
 },
 "nbformat": 4,
 "nbformat_minor": 2
}
