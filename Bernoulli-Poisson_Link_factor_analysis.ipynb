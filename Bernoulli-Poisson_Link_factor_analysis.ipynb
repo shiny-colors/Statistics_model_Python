{
 "cells": [
  {
   "cell_type": "code",
   "execution_count": 237,
   "metadata": {},
   "outputs": [],
   "source": [
    "##### Bernoulli-Poisson Link factor analysis#####\n",
    "import numpy as np\n",
    "import pandas as pd\n",
    "import matplotlib.pyplot  as plt\n",
    "import numpy.matlib\n",
    "import scipy\n",
    "import scipy.linalg\n",
    "import scipy.stats as ss\n",
    "import itertools\n",
    "from numpy.random import *\n",
    "from scipy import optimize\n",
    "from scipy.stats import norm\n",
    "from scipy import sparse"
   ]
  },
  {
   "cell_type": "code",
   "execution_count": 238,
   "metadata": {},
   "outputs": [],
   "source": [
    "##データの設定\n",
    "k = 10   #基底数\n",
    "d = 3000   #ノード数\n",
    "hhpt = int(d*(d-1)/2)   #総ノード数"
   ]
  },
  {
   "cell_type": "code",
   "execution_count": 283,
   "metadata": {},
   "outputs": [
    {
     "name": "stdout",
     "output_type": "stream",
     "text": [
      "1\n",
      "2\n",
      "3\n",
      "4\n",
      "5\n",
      "6\n",
      "7\n",
      "8\n"
     ]
    }
   ],
   "source": [
    "####応答変数を生成####\n",
    "rp = 0\n",
    "while True:\n",
    "    rp = rp + 1\n",
    "    print(rp)\n",
    "    \n",
    "    ##パラメータの生成\n",
    "    #事前分布の設定\n",
    "    alpha01 = 0.15; beta01 = 1.25\n",
    "    alpha02 = 0.125; beta02 = 0.75\n",
    "\n",
    "    #モデルパラメータを生成\n",
    "    phi = np.random.gamma(alpha01, 1/beta01, d*k).reshape(d, k)\n",
    "    omega = np.random.gamma(alpha02, 1/beta02, k*k).reshape(k, k)\n",
    "    omega = np.diag(np.diag(omega)) + np.triu(omega, k=1) + np.triu(omega, k=1).T   #omegaを対称行列に変換\n",
    "    phit = phi.copy(); omega = omega.copy()\n",
    "    \n",
    "    ##リンクを生成\n",
    "    mu = np.dot(np.dot(phi, omega), phi.T)\n",
    "    x = np.random.poisson(mu)\n",
    "    x_vec = np.triu(x, k=1)[np.triu(mu, k=1) > 0]\n",
    "    y_vec = np.array(x_vec > 0, dtype=\"int\")\n",
    "    mu_vec = np.triu(mu, k=1)[np.triu(mu, k=1) > 0]\n",
    "    d_id1 = np.repeat(np.arange(d), d).reshape(d, d)[np.triu(x, k=1) > 0]\n",
    "    d_id2 = np.repeat(np.arange(d), d).reshape(d, d, order=\"F\")[np.triu(x, k=1) > 0]\n",
    "    N = d_id1.shape[0]   #総リンク数\n",
    "    \n",
    "    #break条件\n",
    "    if (N < 0.1 * hhpt) & (N >= 0.05 * hhpt):\n",
    "        break"
   ]
  },
  {
   "cell_type": "code",
   "execution_count": 291,
   "metadata": {},
   "outputs": [
    {
     "name": "stdout",
     "output_type": "stream",
     "text": [
      "440585\n",
      "1.326745122961517\n",
      "91913\n"
     ]
    },
    {
     "data": {
      "text/plain": [
       "(array([4.28946e+05, 8.94100e+03, 1.89000e+03, 5.52000e+02, 1.64000e+02,\n",
       "        5.60000e+01, 2.90000e+01, 4.00000e+00, 0.00000e+00, 3.00000e+00]),\n",
       " array([ 1. ,  3.1,  5.2,  7.3,  9.4, 11.5, 13.6, 15.7, 17.8, 19.9, 22. ]),\n",
       " <a list of 10 Patch objects>)"
      ]
     },
     "execution_count": 291,
     "metadata": {},
     "output_type": "execute_result"
    },
    {
     "data": {
      "image/png": "[encoded data removed]",
      "text/plain": [
       "<Figure size 432x288 with 1 Axes>"
      ]
     },
     "metadata": {},
     "output_type": "display_data"
    }
   ],
   "source": [
    "#生成したリンクと潜在変数を確認\n",
    "print(N)\n",
    "print(np.mean(x_vec[x_vec > 0]))\n",
    "print(x_vec[x_vec > 1].shape[0])\n",
    "plt.hist(x_vec[x_vec > 0])"
   ]
  },
  {
   "cell_type": "code",
   "execution_count": null,
   "metadata": {},
   "outputs": [],
   "source": []
  }
 ],
 "metadata": {
  "kernelspec": {
   "display_name": "Python 3",
   "language": "python",
   "name": "python3"
  },
  "language_info": {
   "codemirror_mode": {
    "name": "ipython",
    "version": 3
   },
   "file_extension": ".py",
   "mimetype": "text/x-python",
   "name": "python",
   "nbconvert_exporter": "python",
   "pygments_lexer": "ipython3",
   "version": "3.6.5"
  }
 },
 "nbformat": 4,
 "nbformat_minor": 2
}
