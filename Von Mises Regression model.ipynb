{
 "cells": [
  {
   "cell_type": "code",
   "execution_count": 38,
   "metadata": {},
   "outputs": [],
   "source": [
    "#####Von Mises Regression model#####\n",
    "import numpy as np\n",
    "import pandas as pd\n",
    "import matplotlib.pyplot  as plt\n",
    "import numpy.matlib\n",
    "import scipy.linalg\n",
    "import itertools\n",
    "import math\n",
    "from scipy import sparse\n",
    "from pandas.tools.plotting import scatter_matrix\n",
    "from numpy.random import *\n",
    "from scipy import optimize\n",
    "import seaborn as sns\n",
    "import time\n",
    "\n",
    "#np.random.seed(98537)"
   ]
  },
  {
   "cell_type": "code",
   "execution_count": 46,
   "metadata": {},
   "outputs": [],
   "source": [
    "####データの発生####\n",
    "##データの設定\n",
    "k = 10\n",
    "N = 100000\n",
    "\n",
    "##説明変数の生成\n",
    "k1 = 4; k2 = 5; k3 = 6\n",
    "x1 = np.array(np.random.random(N*k1)).reshape((N, k1))\n",
    "x2 = np.zeros((N, k2))\n",
    "for j in range(k2):\n",
    "    prob = np.random.uniform(0.25, 0.55, 1)\n",
    "    x2[:, j] = np.random.binomial(1, prob, N)\n",
    "x3 = np.random.multinomial(1, np.random.dirichlet(np.repeat(3.0, k3), 1).reshape(k3), N)\n",
    "x3 = np.delete(x3, np.argmin(np.sum(x3, axis=0)), axis=1)   #冗長な変数の削除\n",
    "x = np.concatenate((np.repeat(1, N)[:, np.newaxis], x1, x2, x3), axis=1)\n",
    "k = x.shape[1]"
   ]
  },
  {
   "cell_type": "code",
   "execution_count": 47,
   "metadata": {},
   "outputs": [
    {
     "data": {
      "text/plain": [
       "(array([ 9396.,  2725.,   813.,   530.,   856.,  2629.,  8850., 21013.,\n",
       "        30245., 22943.]),\n",
       " array([-3.14154057e+00, -2.51322756e+00, -1.88491455e+00, -1.25660154e+00,\n",
       "        -6.28288531e-01,  2.44796370e-05,  6.28337490e-01,  1.25665050e+00,\n",
       "         1.88496351e+00,  2.51327652e+00,  3.14158953e+00]),\n",
       " <a list of 10 Patch objects>)"
      ]
     },
     "execution_count": 47,
     "metadata": {},
     "output_type": "execute_result"
    },
    {
     "data": {
      "image/png": "[encoded data removed]",
      "text/plain": [
       "<Figure size 432x288 with 1 Axes>"
      ]
     },
     "metadata": {},
     "output_type": "display_data"
    }
   ],
   "source": [
    "##応答変数の生成\n",
    "#パラメータの設定\n",
    "beta0 = np.random.uniform(0.75, 1.5, 1)\n",
    "beta1 = np.random.normal(0, 0.75, k-1)\n",
    "beta = np.append(beta0, beta1)\n",
    "kappa = np.random.uniform(2.0, 4.0, 1)\n",
    "betat = beta.copy(); kappat = kappa.copy()\n",
    "\n",
    "#フォンミーゼス分布から円周データを生成\n",
    "mu = 2*np.arctan(np.dot(x, beta))\n",
    "y = np.random.vonmises(mu, kappa, N)\n",
    "plt.hist(y)"
   ]
  },
  {
   "cell_type": "code",
   "execution_count": 48,
   "metadata": {},
   "outputs": [],
   "source": [
    "##Von Mises Regression modelのパラメータを推定するための関数\n",
    "#Von Mises Regression modelの対数尤度関数\n",
    "def loglike(theta, y, x, N, index1, index2):\n",
    "    \n",
    "    #パラメータの設定\n",
    "    beta = theta[index1]\n",
    "    kappa = np.exp(theta[index2])\n",
    "    \n",
    "    #対数尤度の和を計算\n",
    "    mu = 2*np.arctan(np.dot(x, beta))\n",
    "    LL = -N*np.log(2*np.pi*scipy.special.i0(kappa)) + kappa*np.sum(np.cos(y - mu))\n",
    "    return -LL"
   ]
  },
  {
   "cell_type": "code",
   "execution_count": 49,
   "metadata": {},
   "outputs": [],
   "source": [
    "#Von Mises Regression modelの対数尤度関数の勾配ベクトル\n",
    "def dloglike(theta, y, x, N, index1, index2):\n",
    "    \n",
    "    #パラメータの設定\n",
    "    beta = theta[index1]\n",
    "    kappa = np.exp(theta[index2])\n",
    "\n",
    "    #回帰ベクトルの対数尤度の勾配ベクトル\n",
    "    beta_mu = np.dot(x, beta)\n",
    "    mu = 2*np.arctan(beta_mu)\n",
    "    LLd1 = np.sum(kappa * (np.sin(y - mu).reshape(N, 1)) * (2 * (x / (1 + np.power(beta_mu.reshape(N, 1), 2)))), axis=0)\n",
    "    \n",
    "    #分散パラメータの対数尤度の勾配\n",
    "    h = 1e-4\n",
    "    LLd2 = (LL_kappa(kappa+h, mu, y, x, N) - LL_kappa(kappa-h, mu, y, x, N)) / (2*h)\n",
    "    \n",
    "    #勾配ベクトルの戻り値\n",
    "    LLd = -np.append(LLd1, LLd2)\n",
    "    return LLd"
   ]
  },
  {
   "cell_type": "code",
   "execution_count": 50,
   "metadata": {},
   "outputs": [],
   "source": [
    "#分散パラメータの推定用の対数尤度関数\n",
    "def LL_kappa(kappa, mu, y, x, N):\n",
    "    LL = -N*np.log(2*np.pi*scipy.special.i0(kappa)) + kappa*np.sum(np.cos(y - mu))\n",
    "    return LL "
   ]
  },
  {
   "cell_type": "code",
   "execution_count": 53,
   "metadata": {},
   "outputs": [],
   "source": [
    "##準ニュートン法で対数尤度を最大化\n",
    "while True:\n",
    "    #初期値の設定\n",
    "    index1 = np.arange(k); index2 = k\n",
    "    beta = np.append(1, np.random.normal(0, 0.25, k-1))\n",
    "    kappa = np.random.uniform(0, 1.0, 1)\n",
    "    theta = np.append(beta, kappa)\n",
    "\n",
    "    #対数尤度を最大化\n",
    "    res = optimize.minimize(loglike, theta, jac=dloglike, method='BFGS', args=(y, x, N, index1, index2), \n",
    "                            options={\"gtol\": 0.1, \"disp\":False})\n",
    "    if res.success==True:\n",
    "        break"
   ]
  },
  {
   "cell_type": "code",
   "execution_count": 54,
   "metadata": {},
   "outputs": [
    {
     "name": "stdout",
     "output_type": "stream",
     "text": [
      "[-121609.093 -121617.259]\n",
      "[[ 1.421 -0.056  0.385 -0.41   0.497  0.956 -0.02  -0.27   0.245 -0.077\n",
      "  -0.406  0.8    0.224 -0.253  1.26 ]\n",
      " [ 1.347 -0.045  0.374 -0.399  0.524  0.979 -0.027 -0.268  0.255 -0.083\n",
      "  -0.354  0.866  0.276 -0.186  1.293]]\n",
      "[2.157 2.162]\n"
     ]
    }
   ],
   "source": [
    "##推定されたパラメータの確認と適合度\n",
    "#推定されたパラメータと真のパラメータの比較\n",
    "theta = res.x   #推定されたパラメータ\n",
    "hessian = res.hess_inv   #ヘッシアンの逆行列\n",
    "LL = -res.fun   #最大化された対数尤度\n",
    "LLbest = -loglike(np.append(betat, np.log(kappat)), y, x, N, index1, index2)   #真値での対数尤度\n",
    "print(np.round(np.array([LL, LLbest]), 3))\n",
    "print(np.round(np.array([theta[index1], betat]), 3))\n",
    "print(np.round(np.array([np.exp(theta[index2]), kappat]), 3))"
   ]
  },
  {
   "cell_type": "code",
   "execution_count": 9,
   "metadata": {},
   "outputs": [
    {
     "name": "stdout",
     "output_type": "stream",
     "text": [
      "[  72.312  -39.05   -28.038   82.472  -91.229   90.668  153.926   62.975\n",
      "  120.813 -161.963   42.029   29.607   23.531    5.656  -49.402  159.329]\n",
      "[-100182.936  200397.872  200550.079]\n"
     ]
    }
   ],
   "source": [
    "#適合度の確認\n",
    "t_value = theta / np.sqrt(np.diag(hessian))   #t値\n",
    "AIC = -2*LL + 2*(k+1)   #AIC\n",
    "BIC = -2*LL + np.log(N)*(k+1)   #BIC\n",
    "print(np.round(t_value, 3))\n",
    "print(np.round(np.array([LL, AIC, BIC]), 3))"
   ]
  },
  {
   "cell_type": "code",
   "execution_count": null,
   "metadata": {},
   "outputs": [],
   "source": []
  }
 ],
 "metadata": {
  "kernelspec": {
   "display_name": "Python 3",
   "language": "python",
   "name": "python3"
  },
  "language_info": {
   "codemirror_mode": {
    "name": "ipython",
    "version": 3
   },
   "file_extension": ".py",
   "mimetype": "text/x-python",
   "name": "python",
   "nbconvert_exporter": "python",
   "pygments_lexer": "ipython3",
   "version": "3.6.5"
  }
 },
 "nbformat": 4,
 "nbformat_minor": 2
}
