{
 "cells": [
  {
   "cell_type": "code",
   "execution_count": 2,
   "metadata": {},
   "outputs": [],
   "source": [
    "#####Von Mises Regression model#####\n",
    "import numpy as np\n",
    "import pandas as pd\n",
    "import matplotlib.pyplot  as plt\n",
    "import numpy.matlib\n",
    "import scipy.linalg\n",
    "import itertools\n",
    "import math\n",
    "from scipy import sparse\n",
    "from numpy.random import *\n",
    "from scipy import optimize\n",
    "import seaborn as sns\n",
    "import time\n",
    "\n",
    "#np.random.seed(98537)"
   ]
  },
  {
   "cell_type": "code",
   "execution_count": 3,
   "metadata": {},
   "outputs": [],
   "source": [
    "####データの発生####\n",
    "##データの設定\n",
    "k = 10\n",
    "N = 100000\n",
    "\n",
    "##説明変数の生成\n",
    "k1 = 4; k2 = 5; k3 = 6\n",
    "x1 = np.array(np.random.random(N*k1)).reshape((N, k1))\n",
    "x2 = np.zeros((N, k2))\n",
    "for j in range(k2):\n",
    "    prob = np.random.uniform(0.25, 0.55, 1)\n",
    "    x2[:, j] = np.random.binomial(1, prob, N)\n",
    "x3 = np.random.multinomial(1, np.random.dirichlet(np.repeat(3.0, k3), 1).reshape(k3), N)\n",
    "x3 = np.delete(x3, np.argmin(np.sum(x3, axis=0)), axis=1)   #冗長な変数の削除\n",
    "x = np.concatenate((np.repeat(1, N)[:, np.newaxis], x1, x2, x3), axis=1)\n",
    "k = x.shape[1]"
   ]
  },
  {
   "cell_type": "code",
   "execution_count": 4,
   "metadata": {},
   "outputs": [
    {
     "data": {
      "text/plain": [
       "(array([ 7698.,  2554.,  1459.,  1903.,  3168.,  5971., 12020., 20826.,\n",
       "        25803., 18598.]),\n",
       " array([-3.14145881e+00, -2.51316181e+00, -1.88486481e+00, -1.25656781e+00,\n",
       "        -6.28270811e-01,  2.61887266e-05,  6.28323189e-01,  1.25662019e+00,\n",
       "         1.88491719e+00,  2.51321419e+00,  3.14151119e+00]),\n",
       " <a list of 10 Patch objects>)"
      ]
     },
     "execution_count": 4,
     "metadata": {},
     "output_type": "execute_result"
    },
    {
     "data": {
      "image/png": "[encoded data removed]",
      "text/plain": [
       "<Figure size 432x288 with 1 Axes>"
      ]
     },
     "metadata": {
      "needs_background": "light"
     },
     "output_type": "display_data"
    }
   ],
   "source": [
    "##応答変数の生成\n",
    "#パラメータの設定\n",
    "beta0 = np.random.uniform(0.75, 1.5, 1)\n",
    "beta1 = np.random.normal(0, 0.75, k-1)\n",
    "beta = np.append(beta0, beta1)\n",
    "kappa = np.random.uniform(2.0, 4.0, 1)\n",
    "betat = beta.copy(); kappat = kappa.copy()\n",
    "\n",
    "#フォンミーゼス分布から円周データを生成\n",
    "mu = 2*np.arctan(np.dot(x, beta))\n",
    "y = np.random.vonmises(mu, kappa, N)\n",
    "plt.hist(y)"
   ]
  },
  {
   "cell_type": "code",
   "execution_count": 5,
   "metadata": {},
   "outputs": [],
   "source": [
    "##Von Mises Regression modelのパラメータを推定するための関数\n",
    "#Von Mises Regression modelの対数尤度関数\n",
    "def loglike(theta, y, x, N, index1, index2):\n",
    "    \n",
    "    #パラメータの設定\n",
    "    beta = theta[index1]\n",
    "    kappa = np.exp(theta[index2])\n",
    "    \n",
    "    #対数尤度の和を計算\n",
    "    mu = 2*np.arctan(np.dot(x, beta))\n",
    "    LL = -N*np.log(2*np.pi*scipy.special.i0(kappa)) + kappa*np.sum(np.cos(y - mu))\n",
    "    return -LL"
   ]
  },
  {
   "cell_type": "code",
   "execution_count": 19,
   "metadata": {},
   "outputs": [],
   "source": [
    "#Von Mises Regression modelの対数尤度関数の勾配ベクトル\n",
    "def dloglike(theta, y, x, N, index1, index2):\n",
    "    \n",
    "    #パラメータの設定\n",
    "    beta = theta[index1]\n",
    "    kappa = np.exp(theta[index2])\n",
    "\n",
    "    #回帰ベクトルの対数尤度の勾配ベクトル\n",
    "    beta_mu = np.dot(x, beta)\n",
    "    mu = 2*np.arctan(beta_mu)\n",
    "    LLd1 = np.sum(kappa * (np.sin(y - mu).reshape(N, 1)) * (2 * (x / (1 + np.power(beta_mu.reshape(N, 1), 2)))), axis=0)\n",
    "    \n",
    "    #分散パラメータの対数尤度の勾配\n",
    "    h = 1e-4\n",
    "    LLd2 = (LL_kappa(kappa+h, mu, y, x, N) - LL_kappa(kappa-h, mu, y, x, N)) / (2*h)\n",
    "    \n",
    "    #勾配ベクトルの戻り値\n",
    "    LLd = -np.append(LLd1, LLd2)\n",
    "    return LLd"
   ]
  },
  {
   "cell_type": "code",
   "execution_count": 20,
   "metadata": {},
   "outputs": [],
   "source": [
    "#分散パラメータの推定用の対数尤度関数\n",
    "def LL_kappa(kappa, mu, y, x, N):\n",
    "    LL = -N*np.log(2*np.pi*scipy.special.i0(kappa)) + kappa*np.sum(np.cos(y - mu))\n",
    "    return LL "
   ]
  },
  {
   "cell_type": "code",
   "execution_count": 21,
   "metadata": {},
   "outputs": [],
   "source": [
    "##準ニュートン法で対数尤度を最大化\n",
    "while True:\n",
    "    #初期値の設定\n",
    "    index1 = np.arange(k); index2 = k\n",
    "    beta = np.append(1, np.random.normal(0, 0.25, k-1))\n",
    "    kappa = np.random.uniform(0, 1.0, 1)\n",
    "    theta = np.append(beta, kappa)\n",
    "\n",
    "    #対数尤度を最大化\n",
    "    res = optimize.minimize(loglike, theta, jac=dloglike, method='BFGS', args=(y, x, N, index1, index2), \n",
    "                            options={\"gtol\": 0.1, \"disp\":False})\n",
    "    if res.success==True:\n",
    "        break"
   ]
  },
  {
   "cell_type": "code",
   "execution_count": 17,
   "metadata": {},
   "outputs": [
    {
     "name": "stdout",
     "output_type": "stream",
     "text": [
      "[-121019.796 -121025.625]\n",
      "[[ 1.386  0.659 -1.178  0.177 -0.712  1.455 -0.393  0.361  0.014  0.474\n",
      "   1.019  0.44   0.094 -0.888  0.214]\n",
      " [ 1.36   0.663 -1.173  0.196 -0.707  1.461 -0.394  0.363  0.011  0.478\n",
      "   1.029  0.437  0.099 -0.872  0.224]]\n",
      "[2.176 2.164]\n"
     ]
    }
   ],
   "source": [
    "##推定されたパラメータの確認と適合度\n",
    "#推定されたパラメータと真のパラメータの比較\n",
    "theta = res.x   #推定されたパラメータ\n",
    "hessian = res.hess_inv   #ヘッシアンの逆行列\n",
    "LL = -res.fun   #最大化された対数尤度\n",
    "LLbest = -loglike(np.append(betat, np.log(kappat)), y, x, N, index1, index2)   #真値での対数尤度\n",
    "print(np.round(np.array([LL, LLbest]), 3))\n",
    "print(np.round(np.array([theta[index1], betat]), 3))\n",
    "print(np.round(np.append(np.exp(theta[index2]), kappat), 3))"
   ]
  },
  {
   "cell_type": "code",
   "execution_count": 18,
   "metadata": {},
   "outputs": [
    {
     "name": "stdout",
     "output_type": "stream",
     "text": [
      "[ 77.144  54.403 -95.854  14.421 -59.181 144.016 -55.71   43.156   2.015\n",
      "  56.844  51.452  29.148   6.377 -67.108  15.786 145.719]\n",
      "[-121019.796  242071.592  242223.799]\n"
     ]
    }
   ],
   "source": [
    "#適合度の確認\n",
    "t_value = theta / np.sqrt(np.diag(hessian))   #t値\n",
    "AIC = -2*LL + 2*(k+1)   #AIC\n",
    "BIC = -2*LL + np.log(N)*(k+1)   #BIC\n",
    "print(np.round(t_value, 3))\n",
    "print(np.round(np.array([LL, AIC, BIC]), 3))"
   ]
  },
  {
   "cell_type": "code",
   "execution_count": null,
   "metadata": {},
   "outputs": [],
   "source": []
  },
  {
   "cell_type": "code",
   "execution_count": null,
   "metadata": {},
   "outputs": [],
   "source": []
  }
 ],
 "metadata": {
  "kernelspec": {
   "display_name": "Python 3",
   "language": "python",
   "name": "python3"
  },
  "language_info": {
   "codemirror_mode": {
    "name": "ipython",
    "version": 3
   },
   "file_extension": ".py",
   "mimetype": "text/x-python",
   "name": "python",
   "nbconvert_exporter": "python",
   "pygments_lexer": "ipython3",
   "version": "3.7.3"
  }
 },
 "nbformat": 4,
 "nbformat_minor": 2
}
