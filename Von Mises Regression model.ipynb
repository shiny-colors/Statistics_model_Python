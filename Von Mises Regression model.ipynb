{
 "cells": [
  {
   "cell_type": "code",
   "execution_count": 376,
   "metadata": {},
   "outputs": [],
   "source": [
    "#####Von Mises Regression model#####\n",
    "import numpy as np\n",
    "import pandas as pd\n",
    "import matplotlib.pyplot  as plt\n",
    "import numpy.matlib\n",
    "import scipy.linalg\n",
    "import itertools\n",
    "import math\n",
    "from scipy import sparse\n",
    "from pandas.tools.plotting import scatter_matrix\n",
    "from numpy.random import *\n",
    "from scipy import optimize\n",
    "import seaborn as sns\n",
    "import time\n",
    "\n",
    "#np.random.seed(98537)"
   ]
  },
  {
   "cell_type": "code",
   "execution_count": 377,
   "metadata": {},
   "outputs": [],
   "source": [
    "####データの発生####\n",
    "##データの設定\n",
    "k = 10\n",
    "N = 100000\n",
    "\n",
    "##説明変数の生成\n",
    "k1 = 4; k2 = 5; k3 = 6\n",
    "x1 = np.array(np.random.random(N*k1)).reshape((N, k1))\n",
    "x2 = np.zeros((N, k2))\n",
    "for j in range(k2):\n",
    "    prob = np.random.uniform(0.25, 0.55, 1)\n",
    "    x2[:, j] = np.random.binomial(1, prob, N)\n",
    "x3 = np.random.multinomial(1, np.random.dirichlet(np.repeat(3.0, k3), 1).reshape(k3), N)\n",
    "x3 = np.delete(x3, np.argmin(np.sum(x3, axis=0)), axis=1)   #冗長な変数の削除\n",
    "x = np.concatenate((np.repeat(1, N)[:, np.newaxis], x1, x2, x3), axis=1)\n",
    "k = x.shape[1]"
   ]
  },
  {
   "cell_type": "code",
   "execution_count": 378,
   "metadata": {},
   "outputs": [
    {
     "data": {
      "text/plain": [
       "(array([ 9692.,  3415.,  2370.,  2829.,  3604.,  5320.,  9099., 16848.,\n",
       "        25206., 21617.]),\n",
       " array([-3.14157797e+00, -2.51327112e+00, -1.88496427e+00, -1.25665742e+00,\n",
       "        -6.28350572e-01, -4.37240225e-05,  6.28263124e-01,  1.25656997e+00,\n",
       "         1.88487682e+00,  2.51318367e+00,  3.14149052e+00]),\n",
       " <a list of 10 Patch objects>)"
      ]
     },
     "execution_count": 378,
     "metadata": {},
     "output_type": "execute_result"
    },
    {
     "data": {
      "image/png": "[encoded data removed]",
      "text/plain": [
       "<Figure size 432x288 with 1 Axes>"
      ]
     },
     "metadata": {},
     "output_type": "display_data"
    }
   ],
   "source": [
    "##応答変数の生成\n",
    "#パラメータの設定\n",
    "beta0 = np.random.uniform(0.75, 1.5, 1)\n",
    "beta1 = np.random.normal(0, 1.0, k-1)\n",
    "beta = np.append(beta0, beta1)\n",
    "kappa = np.random.uniform(2.0, 4.0, 1)\n",
    "betat = beta.copy(); kappat = kappa.copy()\n",
    "\n",
    "#フォンミーゼス分布から円周データを生成\n",
    "mu = 2*np.arctan(np.dot(x, beta))\n",
    "y = np.random.vonmises(mu, kappa, N)\n",
    "plt.hist(y)"
   ]
  },
  {
   "cell_type": "code",
   "execution_count": 379,
   "metadata": {},
   "outputs": [],
   "source": [
    "##Von Mises Regression modelの対数尤度\n",
    "def loglike(theta, y, x, N, index1, index2):\n",
    "    #パラメータの設定\n",
    "    beta = theta[index1]\n",
    "    kappa = np.exp(theta[index2])\n",
    "    \n",
    "    #対数尤度の和を計算\n",
    "    mu = 2*np.arctan(np.dot(x, beta))\n",
    "    LL = -N*np.log(scipy.special.i0(kappa)) + kappa*np.sum(np.cos(y - mu))\n",
    "    return -LL "
   ]
  },
  {
   "cell_type": "code",
   "execution_count": 380,
   "metadata": {},
   "outputs": [],
   "source": [
    "##Von Mises Regression modelの対数尤度の勾配ベクトル"
   ]
  },
  {
   "cell_type": "code",
   "execution_count": 394,
   "metadata": {},
   "outputs": [
    {
     "name": "stdout",
     "output_type": "stream",
     "text": [
      "Optimization terminated successfully.\n",
      "         Current function value: -73806.397606\n",
      "         Iterations: 33\n",
      "         Function evaluations: 864\n",
      "         Gradient evaluations: 48\n"
     ]
    }
   ],
   "source": [
    "##準ニュートン法で対数尤度を最大化\n",
    "#初期値の設定\n",
    "index1 = np.arange(k); index2 = k\n",
    "beta = np.append(0.5, np.random.normal(0, 0.25, k-1))\n",
    "kappa = 0\n",
    "theta = np.append(beta, kappa)\n",
    "\n",
    "#対数尤度を最大化\n",
    "res = optimize.minimize(loglike, theta, method='BFGS', args=(y, x, N, index1, index2), \n",
    "                        options={\"gtol\": 0.01, \"disp\":True})"
   ]
  },
  {
   "cell_type": "code",
   "execution_count": 395,
   "metadata": {},
   "outputs": [
    {
     "name": "stdout",
     "output_type": "stream",
     "text": [
      "[ 1.45601866  0.76571542 -1.17618286 -1.60120526  1.30148079  0.07800595\n",
      " -1.01885023  0.90881453  2.13647734  0.0212434  -0.5632592  -0.56690934\n",
      "  1.9049217   0.63350419 -1.15863229]\n",
      "[ 1.44138622  0.76816716 -1.18072986 -1.60463719  1.30894656  0.08124578\n",
      " -1.0291806   0.91693298  2.14105528  0.02433243 -0.54966174 -0.55356423\n",
      "  1.92029365  0.63971983 -1.13864078]\n",
      "2.561095058077224\n",
      "[2.55844223]\n"
     ]
    }
   ],
   "source": [
    "print(res.x[index1])\n",
    "print(betat)\n",
    "print(np.exp(res.x[index2]))\n",
    "print(kappat)"
   ]
  },
  {
   "cell_type": "code",
   "execution_count": 338,
   "metadata": {},
   "outputs": [
    {
     "name": "stdout",
     "output_type": "stream",
     "text": [
      "[ 1.18604004  0.4837852  -0.08940134  0.8114682   0.24221025 -0.2620939\n",
      "  0.53191566 -0.03248157  1.75513907 -0.47691409 -0.60295758  1.05240516\n",
      " -0.43677089 -0.96910883  0.21788241]\n",
      "[ 1.20214975  0.48112283 -0.09204481  0.81197168  0.22835721 -0.26704226\n",
      "  0.53320022 -0.02171317  1.76587361 -0.47162176 -0.60579553  0.95355996\n",
      " -0.44226209 -0.98248234  0.18541011]\n"
     ]
    }
   ],
   "source": []
  },
  {
   "cell_type": "code",
   "execution_count": 339,
   "metadata": {},
   "outputs": [
    {
     "name": "stdout",
     "output_type": "stream",
     "text": [
      "2.0944404670174763\n",
      "[2.08368612]\n"
     ]
    }
   ],
   "source": []
  },
  {
   "cell_type": "code",
   "execution_count": 332,
   "metadata": {},
   "outputs": [
    {
     "data": {
      "text/plain": [
       "2.0944399561820006"
      ]
     },
     "execution_count": 332,
     "metadata": {},
     "output_type": "execute_result"
    }
   ],
   "source": [
    "res1.x[index2]"
   ]
  },
  {
   "cell_type": "code",
   "execution_count": 288,
   "metadata": {},
   "outputs": [
    {
     "data": {
      "text/plain": [
       "array([2.19598361, 0.95514365, 2.16654214, ..., 3.03020552, 2.28513358,\n",
       "       2.02164439])"
      ]
     },
     "execution_count": 288,
     "metadata": {},
     "output_type": "execute_result"
    }
   ],
   "source": []
  },
  {
   "cell_type": "code",
   "execution_count": null,
   "metadata": {},
   "outputs": [],
   "source": []
  }
 ],
 "metadata": {
  "kernelspec": {
   "display_name": "Python 3",
   "language": "python",
   "name": "python3"
  },
  "language_info": {
   "codemirror_mode": {
    "name": "ipython",
    "version": 3
   },
   "file_extension": ".py",
   "mimetype": "text/x-python",
   "name": "python",
   "nbconvert_exporter": "python",
   "pygments_lexer": "ipython3",
   "version": "3.6.5"
  }
 },
 "nbformat": 4,
 "nbformat_minor": 2
}
